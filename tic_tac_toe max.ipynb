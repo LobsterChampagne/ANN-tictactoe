{
 "cells": [
  {
   "cell_type": "code",
   "execution_count": 1,
   "metadata": {},
   "outputs": [],
   "source": [
    "import numpy as np\n",
    "from tic_env import TictactoeEnv, OptimalPlayer\n",
    "import matplotlib\n",
    "import matplotlib.pyplot as plt\n",
    "import warnings\n",
    "warnings.simplefilter(action='ignore', category=FutureWarning)\n",
    "import time\n",
    "import re"
   ]
  },
  {
   "cell_type": "markdown",
   "metadata": {},
   "source": [
    "# Tic Toc Toe environment"
   ]
  },
  {
   "cell_type": "markdown",
   "metadata": {},
   "source": [
    "Our 1st game is the famous Tic Toc Toe. You can read about the game and its rules here: https://en.wikipedia.org/wiki/Tic-tac-toe\n",
    "\n",
    "We implemented the game as an environment in the style of games in the [Python GYM library](https://gym.openai.com/). The commented source code is available in the file \"tic_env.py\". Here, we give a brief introduction to the environment and how it can be used."
   ]
  },
  {
   "cell_type": "markdown",
   "metadata": {},
   "source": [
    "### Initialization and attributes"
   ]
  },
  {
   "cell_type": "markdown",
   "metadata": {},
   "source": [
    "You can initialize the environment / game as following:"
   ]
  },
  {
   "cell_type": "code",
   "execution_count": 2,
   "metadata": {},
   "outputs": [],
   "source": [
    "env = TictactoeEnv()"
   ]
  },
  {
   "cell_type": "markdown",
   "metadata": {},
   "source": [
    "Which then has the following attributes with the corresponding initial values:"
   ]
  },
  {
   "cell_type": "code",
   "execution_count": 3,
   "metadata": {
    "scrolled": true
   },
   "outputs": [
    {
     "data": {
      "text/plain": [
       "{'grid': array([[0., 0., 0.],\n",
       "        [0., 0., 0.],\n",
       "        [0., 0., 0.]]),\n",
       " 'end': False,\n",
       " 'winner': None,\n",
       " 'player2value': {'X': 1, 'O': -1},\n",
       " 'num_step': 0,\n",
       " 'current_player': 'X'}"
      ]
     },
     "execution_count": 3,
     "metadata": {},
     "output_type": "execute_result"
    }
   ],
   "source": [
    "env.__dict__"
   ]
  },
  {
   "cell_type": "markdown",
   "metadata": {},
   "source": [
    "The game is played by two players: player 'X' and player 'O'. The attribute 'current_player' shows whose turn it is. We assume that player 'X' always plays first.\n",
    "\n",
    "The attribute 'grid' is a 3x3 numpy array and presents the board in the real game and the state $s_t$ in the reinfocement learning language. Each elements can take a value in {0, 1, -1}:\n",
    "     0 : place unmarked\n",
    "     1 : place marked with X \n",
    "    -1 : place marked with O \n",
    "        \n",
    "The attribute 'end' shows if the game is over or not, and the attribute 'winner' shows the winner of the game: either \"X\", \"O\", or None.  "
   ]
  },
  {
   "cell_type": "markdown",
   "metadata": {},
   "source": [
    "You can use function 'render' to visualize the current position of the board:"
   ]
  },
  {
   "cell_type": "code",
   "execution_count": 4,
   "metadata": {},
   "outputs": [
    {
     "name": "stdout",
     "output_type": "stream",
     "text": [
      "|- - -|\n",
      "|- - -|\n",
      "|- - -|\n",
      "\n"
     ]
    }
   ],
   "source": [
    "env.render()"
   ]
  },
  {
   "cell_type": "code",
   "execution_count": 5,
   "metadata": {},
   "outputs": [
    {
     "data": {
      "text/plain": [
       "(array([[0., 0., 0.],\n",
       "        [0., 0., 0.],\n",
       "        [0., 0., 0.]]),\n",
       " False,\n",
       " None)"
      ]
     },
     "execution_count": 5,
     "metadata": {},
     "output_type": "execute_result"
    }
   ],
   "source": [
    "env.observe()"
   ]
  },
  {
   "cell_type": "markdown",
   "metadata": {},
   "source": [
    "### Test"
   ]
  },
  {
   "cell_type": "code",
   "execution_count": 6,
   "metadata": {},
   "outputs": [
    {
     "name": "stdout",
     "output_type": "stream",
     "text": [
      "Reward X = 970\n",
      "Reward O = -970\n"
     ]
    }
   ],
   "source": [
    "Turns = np.array(['X','O'])\n",
    "X_reward = []\n",
    "O_reward = []\n",
    "for i in range(1000):\n",
    "    env.reset()\n",
    "    grid, _, __ = env.observe()\n",
    "    player_X = OptimalPlayer(epsilon=0., player='X')\n",
    "    player_O = OptimalPlayer(epsilon=1., player='O')\n",
    "    for j in range(9):\n",
    "        if env.current_player == player_X.player:\n",
    "            move = player_X.act(grid)\n",
    "        else:\n",
    "            move = player_O.act(grid)\n",
    "\n",
    "        grid, end, winner = env.step(move, print_grid=False)\n",
    "\n",
    "        if end:\n",
    "            X_reward.append(env.reward(player='X'))\n",
    "            O_reward.append(env.reward(player='O'))\n",
    "            env.reset()\n",
    "            break\n",
    "print('Reward X = ' +  str(sum(X_reward)))\n",
    "print('Reward O = ' +  str(sum(O_reward)))"
   ]
  },
  {
   "cell_type": "markdown",
   "metadata": {},
   "source": [
    "# Q-Learning"
   ]
  },
  {
   "cell_type": "markdown",
   "metadata": {},
   "source": [
    "### 2.1"
   ]
  },
  {
   "cell_type": "code",
   "execution_count": 7,
   "metadata": {},
   "outputs": [
    {
     "data": {
      "text/plain": [
       "{'[[0. 0. 0.]\\n [0. 0. 0.]\\n [0. 0. 0.]]': array([0., 0., 0., 0., 0., 0., 0., 0., 0.])}"
      ]
     },
     "execution_count": 7,
     "metadata": {},
     "output_type": "execute_result"
    }
   ],
   "source": [
    "# create the dictionary of q values based on the grid of tic tac toe\n",
    "Q_table = {str(np.zeros((3,3))) : np.zeros(9)}\n",
    "Q_table"
   ]
  },
  {
   "cell_type": "code",
   "execution_count": 8,
   "metadata": {},
   "outputs": [],
   "source": [
    "def Q_actions(s):\n",
    "    # s is a np grid\n",
    "    if(Q_table.get(str(s),'a') == 'a'):\n",
    "        Q_table[str(s)] = np.where(s.flatten() == 0, s.flatten(), np.nan)\n",
    "    return Q_table[str(s)]"
   ]
  },
  {
   "cell_type": "code",
   "execution_count": 9,
   "metadata": {},
   "outputs": [
    {
     "data": {
      "text/plain": [
       "{'[[0. 0. 0.]\\n [0. 0. 0.]\\n [0. 0. 0.]]': array([0., 0., 0., 0., 0., 0., 0., 0., 0.]),\n",
       " '[[1. 0. 0.]\\n [0. 0. 0.]\\n [0. 0. 0.]]': array([nan,  0.,  0.,  0.,  0.,  0.,  0.,  0.,  0.])}"
      ]
     },
     "execution_count": 9,
     "metadata": {},
     "output_type": "execute_result"
    }
   ],
   "source": [
    "# demonstrate that the Q_table gets updated with zeroes and nan when it encounters new position\n",
    "env.reset()\n",
    "env.step(0)\n",
    "Q_actions(env.grid)\n",
    "Q_table"
   ]
  },
  {
   "cell_type": "code",
   "execution_count": 10,
   "metadata": {},
   "outputs": [],
   "source": [
    "rng = np.random.default_rng(358)\n",
    "def epsilon_action(q_vals, eps):\n",
    "    if (rng.random() < eps):\n",
    "        #random move\n",
    "        #gets random non-nan index\n",
    "        return rng.choice([x[0] for x in enumerate(q_vals) if not np.isnan(x[1])])\n",
    "    else:\n",
    "        #first best move\n",
    "        return np.nanargmax(q_vals)"
   ]
  },
  {
   "cell_type": "code",
   "execution_count": 11,
   "metadata": {},
   "outputs": [],
   "source": [
    "step_size = 0.05\n",
    "discount = 0.99\n",
    "epsilon = 0.3\n",
    "Q_table = {}\n",
    "Turns = np.array(['X','O'])"
   ]
  },
  {
   "cell_type": "code",
   "execution_count": 12,
   "metadata": {},
   "outputs": [
    {
     "name": "stdout",
     "output_type": "stream",
     "text": [
      "Reward opt = 27915\n",
      "Reward learn = -27915\n"
     ]
    }
   ],
   "source": [
    "opt_reward = []\n",
    "learn_reward = []\n",
    "\n",
    "for i in range(250000):\n",
    "    moves = []\n",
    "    \n",
    "    env.reset()\n",
    "    grid, _, __ = env.observe()\n",
    "    player_opt = OptimalPlayer(epsilon=0.5, player=Turns[i%2])\n",
    "    for j in range(9):\n",
    "        if env.current_player == player_opt.player:\n",
    "            move = player_opt.act(grid)\n",
    "        else:\n",
    "            # get the q values\n",
    "            q_vals = Q_actions(env.grid)\n",
    "            # choose a move\n",
    "            move = epsilon_action(q_vals, epsilon)\n",
    "            \n",
    "            #add position and move to array\n",
    "            moves.append((np.copy(env.grid), move))\n",
    "            \n",
    "            # get move in 2d format\n",
    "            move = (move//3, move%3)\n",
    "            \n",
    "        grid, end, winner = env.step(move)\n",
    "        \n",
    "        # update the Q-values, this has to be done after opt moves or when the game ends\n",
    "        if (env.current_player != player_opt.player) | end:\n",
    "            # get the current reward\n",
    "            reward = env.reward(player=Turns[(i+1)%2])\n",
    "            num_moves = len(moves)\n",
    "            if num_moves >= 2:\n",
    "                position = moves[num_moves - 2][0]\n",
    "                action = moves[num_moves - 2][1]\n",
    "                Q_next_max = np.nanmax(Q_actions(moves[num_moves - 1][0]))\n",
    "                # update the Q-value\n",
    "                Q_table[str(position)][action] += step_size * (reward + discount * Q_next_max - Q_table[str(position)][action])\n",
    "        \n",
    "        if end:\n",
    "            # add rewards to arrays\n",
    "            opt_reward.append(env.reward(player=Turns[i%2]))\n",
    "            learn_reward.append(env.reward(player=Turns[(i+1)%2]))\n",
    "            env.reset()\n",
    "            break\n",
    "print('Reward opt = ' +  str(sum(opt_reward)))\n",
    "print('Reward learn = ' +  str(sum(learn_reward)))"
   ]
  },
  {
   "cell_type": "code",
   "execution_count": 13,
   "metadata": {
    "scrolled": false
   },
   "outputs": [
    {
     "data": {
      "image/png": "[encoded data removed]",
      "text/plain": [
       "<Figure size 432x288 with 1 Axes>"
      ]
     },
     "metadata": {
      "needs_background": "light"
     },
     "output_type": "display_data"
    }
   ],
   "source": [
    "plt.plot(np.cumsum(learn_reward))\n",
    "plt.title('q-learn')\n",
    "plt.show()"
   ]
  },
  {
   "cell_type": "markdown",
   "metadata": {},
   "source": [
    "Chose 0.3 as it should perform better than 0.5 if it gets good (this should be seen in the end), and at the same time it's not too low so it should explore enough."
   ]
  },
  {
   "cell_type": "markdown",
   "metadata": {},
   "source": [
    "**Question 1:**"
   ]
  },
  {
   "cell_type": "code",
   "execution_count": 14,
   "metadata": {},
   "outputs": [
    {
     "data": {
      "image/png": "[encoded data removed]",
      "text/plain": [
       "<Figure size 432x288 with 1 Axes>"
      ]
     },
     "metadata": {
      "needs_background": "light"
     },
     "output_type": "display_data"
    }
   ],
   "source": [
    "learn250 = np.split(np.asarray(learn_reward), 250)\n",
    "averages = np.mean(learn250, axis=1)\n",
    "\n",
    "plt.plot(averages)\n",
    "plt.title('Average reward every 250 games')\n",
    "plt.ylabel('Reward')\n",
    "plt.xlabel('1/250 scale')\n",
    "plt.show()"
   ]
  },
  {
   "cell_type": "markdown",
   "metadata": {},
   "source": [
    "Yes there clearly is an upward trend. Could be reflected with stat analysis."
   ]
  },
  {
   "cell_type": "code",
   "execution_count": 15,
   "metadata": {},
   "outputs": [],
   "source": [
    "save_q = Q_table"
   ]
  },
  {
   "cell_type": "markdown",
   "metadata": {},
   "source": [
    "**Question 2 and 3:**"
   ]
  },
  {
   "cell_type": "code",
   "execution_count": 16,
   "metadata": {},
   "outputs": [],
   "source": [
    "def eps(n, n_star, e_min, e_max):\n",
    "    return max(e_min, e_max * (1 - (n/n_star)))"
   ]
  },
  {
   "cell_type": "code",
   "execution_count": 17,
   "metadata": {},
   "outputs": [],
   "source": [
    "def M(e):\n",
    "    learner_rewards = []\n",
    "    for i in range(500):\n",
    "        env.reset()\n",
    "        grid, _, __ = env.observe()\n",
    "        player_opt = OptimalPlayer(epsilon=e, player=Turns[i%2])\n",
    "        for j in range(9):\n",
    "            if env.current_player == player_opt.player:\n",
    "                move = player_opt.act(grid)\n",
    "            else:\n",
    "                # get the q values\n",
    "                q_vals = Q_actions(grid)\n",
    "                # using epsilon 0\n",
    "                move = epsilon_action(q_vals, 0)\n",
    "                # get move in 2d format\n",
    "                move = (move//3, move%3)\n",
    "\n",
    "            grid, end, winner = env.step(move)\n",
    "\n",
    "            if end:\n",
    "                # add rewards to arrays\n",
    "                learner_rewards.append(env.reward(player=Turns[(i+1)%2]))\n",
    "                break\n",
    "                env.reset()\n",
    "    return (np.count_nonzero(np.asarray(learner_rewards) == 1) - np.count_nonzero(np.asarray(learner_rewards) == -1)) / 500"
   ]
  },
  {
   "cell_type": "code",
   "execution_count": 18,
   "metadata": {},
   "outputs": [],
   "source": [
    "n_star = [*range(1, 20000, 3500)]\n",
    "n_star.append(20000)\n",
    "e_min = 0.1\n",
    "e_max = 0.8"
   ]
  },
  {
   "cell_type": "code",
   "execution_count": null,
   "metadata": {
    "scrolled": true
   },
   "outputs": [
    {
     "data": {
      "image/png": "[encoded data removed]",
      "text/plain": [
       "<Figure size 432x288 with 1 Axes>"
      ]
     },
     "metadata": {
      "needs_background": "light"
     },
     "output_type": "display_data"
    },
    {
     "name": "stdout",
     "output_type": "stream",
     "text": [
      "time at 0 363.6579248905182\n"
     ]
    }
   ],
   "source": [
    "for y in range(len(n_star)):\n",
    "    before = time.time()\n",
    "    \n",
    "    # reset q-values between\n",
    "    Q_table = {} \n",
    "    learn_reward = []\n",
    "    # array for epsilon values to plot\n",
    "    eps_vals = [] \n",
    "    # arrays for M values\n",
    "    M_opt = []\n",
    "    M_rand = []\n",
    "    for i in range(20000):\n",
    "        moves = []\n",
    "\n",
    "        env.reset()\n",
    "        grid, _, __ = env.observe()\n",
    "        player_opt = OptimalPlayer(epsilon=0.5, player=Turns[i%2])\n",
    "        for j in range(9):\n",
    "            if env.current_player == player_opt.player:\n",
    "                move = player_opt.act(grid)\n",
    "            else:\n",
    "                # get the q values\n",
    "                q_vals = Q_actions(env.grid)\n",
    "                # using new decreasing epsilon\n",
    "                epsilon = eps(i, n_star[y], e_min, e_max)\n",
    "                move = epsilon_action(q_vals, epsilon)\n",
    "                # add position and move to array\n",
    "                moves.append((np.copy(env.grid), move))\n",
    "                # get move in 2d format\n",
    "                move = (move//3, move%3)\n",
    "\n",
    "            grid, end, winner = env.step(move)\n",
    "\n",
    "            # update the Q-values, this has to be done after opt moves or when the game ends\n",
    "            if (env.current_player != player_opt.player) | end:\n",
    "                # get the current reward\n",
    "                reward = env.reward(player=Turns[(i+1)%2])\n",
    "                num_moves = len(moves)\n",
    "                if num_moves >= 2:\n",
    "                    position = moves[num_moves - 2][0]\n",
    "                    action = moves[num_moves - 2][1]\n",
    "                    Q_next_max = np.nanmax(Q_actions(moves[num_moves - 1][0]))\n",
    "                    # update all the Q-values up to the current move\n",
    "                    Q_table[str(position)][action] += step_size * (reward + discount * Q_next_max - Q_table[str(position)][action])\n",
    "            if end:\n",
    "                # add rewards to arrays\n",
    "                learn_reward.append(env.reward(player=Turns[(i+1)%2]))\n",
    "                # add to array for plotting\n",
    "                eps_vals.append(epsilon) \n",
    "                env.reset()\n",
    "                break\n",
    "        # get the M values every 250th game\n",
    "        if (i%250) == 0:\n",
    "            M_opt.append(M(0))\n",
    "            M_rand.append(M(1))\n",
    "    # the the averages per 250 values\n",
    "    learn250 = np.split(np.asarray(learn_reward), 80)\n",
    "    learn_averages = np.mean(learn250, axis=1)\n",
    "    eps250 = np.split(np.asarray(eps_vals), 80)\n",
    "    eps_averages = np.mean(eps250, axis=1)\n",
    "\n",
    "    title = 'Average reward for n_star ' + str(n_star[y])\n",
    "    plt.plot(learn_averages, label = 'reward')\n",
    "    plt.plot(eps_averages, label = 'epsilon')\n",
    "    plt.plot(M_opt, label = 'M_opt')\n",
    "    plt.plot(M_rand, label = 'M_rand')\n",
    "    plt.title(title)\n",
    "    plt.ylabel('Reward')\n",
    "    plt.xlabel('1/250 scale')\n",
    "    plt.legend()\n",
    "    plt.show()\n",
    "    \n",
    "    after = time.time()\n",
    "    print('time at',y,after-before)"
   ]
  },
  {
   "cell_type": "markdown",
   "metadata": {},
   "source": [
    "**Q2 answer:**"
   ]
  },
  {
   "cell_type": "markdown",
   "metadata": {},
   "source": [
    "We can see that it uses more time to explore before in the later stages it exploit more."
   ]
  },
  {
   "cell_type": "markdown",
   "metadata": {},
   "source": [
    "The effect of n_star seems to be that the explore phase gets extended, but it does not seem to end any higher on avg reward when it reaches 0.1 epsilon."
   ]
  },
  {
   "cell_type": "markdown",
   "metadata": {},
   "source": [
    "**Question 3:**"
   ]
  },
  {
   "cell_type": "markdown",
   "metadata": {},
   "source": [
    "For the winning rate we can see that larger values seem to have more stable learning and end up higher probably as they have explored more early."
   ]
  },
  {
   "cell_type": "markdown",
   "metadata": {},
   "source": [
    "### 2.1.2\n",
    "Good and bad experts"
   ]
  },
  {
   "cell_type": "code",
   "execution_count": null,
   "metadata": {},
   "outputs": [],
   "source": [
    "n_star_opt = 12000\n",
    "e_min = 0.1\n",
    "e_max = 0.8\n",
    "e_opt = [x / 10.0 for x in range(0, 10, 2)]"
   ]
  },
  {
   "cell_type": "code",
   "execution_count": null,
   "metadata": {},
   "outputs": [],
   "source": [
    "for y in range(len(e_opt)):\n",
    "    before = time.time()\n",
    "    \n",
    "    # reset q-values between\n",
    "    Q_table = {} \n",
    "    learn_reward = []\n",
    "    # array for epsilon values to plot\n",
    "    eps_vals = [] \n",
    "    # arrays for M values\n",
    "    M_opt = []\n",
    "    M_rand = []\n",
    "    for i in range(20000):\n",
    "        moves = []\n",
    "\n",
    "        env.reset()\n",
    "        grid, _, __ = env.observe()\n",
    "        player_opt = OptimalPlayer(epsilon=e_opt[y], player=Turns[i%2])\n",
    "        for j in range(9):\n",
    "            if env.current_player == player_opt.player:\n",
    "                move = player_opt.act(grid)\n",
    "            else:\n",
    "                # get the q values\n",
    "                q_vals = Q_actions(env.grid)\n",
    "                # using optimal n_star decreasing epsilon\n",
    "                epsilon = eps(i, n_star_opt, e_min, e_max)\n",
    "                move = epsilon_action(q_vals, epsilon)\n",
    "                # add position and move to array\n",
    "                moves.append((np.copy(env.grid), move))\n",
    "                # get move in 2d format\n",
    "                move = (move//3, move%3)\n",
    "\n",
    "            grid, end, winner = env.step(move)\n",
    "\n",
    "            # update the Q-values, this has to be done after opt moves or when the game ends\n",
    "            if (env.current_player != player_opt.player) | end:\n",
    "                # get the current reward\n",
    "                reward = env.reward(player=Turns[(i+1)%2])\n",
    "                num_moves = len(moves)\n",
    "                if num_moves >= 2:\n",
    "                    position = moves[num_moves - 2][0]\n",
    "                    action = moves[num_moves - 2][1]\n",
    "                    Q_next_max = np.nanmax(Q_actions(moves[num_moves - 1][0]))\n",
    "                    # update all the Q-values up to the current move\n",
    "                    Q_table[str(position)][action] += step_size * (reward + discount * Q_next_max - Q_table[str(position)][action])\n",
    "            if end:\n",
    "                # add rewards to arrays\n",
    "                learn_reward.append(env.reward(player=Turns[(i+1)%2]))\n",
    "                # add to array for plotting\n",
    "                eps_vals.append(epsilon) \n",
    "                env.reset()\n",
    "                break\n",
    "        # get the M values every 250th game\n",
    "        if (i%250) == 0:\n",
    "            M_opt.append(M(0))\n",
    "            M_rand.append(M(1))\n",
    "    # the the averages per 250 values\n",
    "    learn250 = np.split(np.asarray(learn_reward), 80)\n",
    "    learn_averages = np.mean(learn250, axis=1)\n",
    "    eps250 = np.split(np.asarray(eps_vals), 80)\n",
    "    eps_averages = np.mean(eps250, axis=1)\n",
    "\n",
    "    title = 'Average reward for e_opt ' + str(e_opt[y])\n",
    "    plt.plot(learn_averages, label = 'reward')\n",
    "    plt.plot(eps_averages, label = 'epsilon')\n",
    "    plt.plot(M_opt, label = 'M_opt')\n",
    "    plt.plot(M_rand, label = 'M_rand')\n",
    "    plt.title(title)\n",
    "    plt.ylabel('Reward')\n",
    "    plt.xlabel('1/250 scale')\n",
    "    plt.legend()\n",
    "    plt.show()\n",
    "    \n",
    "    after = time.time()\n",
    "    print('time at',y,after-before)"
   ]
  },
  {
   "cell_type": "markdown",
   "metadata": {},
   "source": [
    "There are some interesting straight lines at 0.5 for M_opt. This could be that it loses every game it does not start and draws every game it starts, or it could be due to a bug..."
   ]
  },
  {
   "cell_type": "markdown",
   "metadata": {},
   "source": [
    "**Question 4:**\n",
    "\n",
    "We observe that lower epsilon corresponds to: \n",
    "and higher epsilon corresponds to:\n",
    "\n",
    "This can be explained by \n",
    "\n"
   ]
  },
  {
   "cell_type": "code",
   "execution_count": null,
   "metadata": {},
   "outputs": [],
   "source": []
  },
  {
   "cell_type": "markdown",
   "metadata": {},
   "source": [
    "**Question 5:**\n",
    "\n",
    "The highest M_opt and M_rand achieved are:\n",
    "\n",
    "M_opt of .... for epsilon X at time :....\n",
    "\n",
    "M_rand of .... for epsilon X at time :...."
   ]
  },
  {
   "cell_type": "markdown",
   "metadata": {},
   "source": [
    "**Question 6:**\n",
    "\n",
    "Optimal strategy against Opt(0) and optimal strategy against Opt(1) does not have to be the same..\n",
    "The optimal strat described as picking middle, then corner then block etc. would good vs optimal player,\n",
    "\n",
    "but perhaps vs random player it could be advantageous to not block win if the chance is small that it picks by random and you can win on text turn.\n",
    "\n"
   ]
  },
  {
   "cell_type": "markdown",
   "metadata": {},
   "source": [
    "## 2.2"
   ]
  },
  {
   "cell_type": "markdown",
   "metadata": {},
   "source": [
    "This is selfplay with fixed epsilon between 0-1."
   ]
  },
  {
   "cell_type": "code",
   "execution_count": null,
   "metadata": {},
   "outputs": [],
   "source": [
    "e_learn = [x / 10.0 for x in range(0, 10, 2)]"
   ]
  },
  {
   "cell_type": "code",
   "execution_count": null,
   "metadata": {},
   "outputs": [],
   "source": [
    "for y in range(len(e_learn)):\n",
    "    before = time.time()\n",
    "    \n",
    "    # reset q-values between\n",
    "    Q_table = {} \n",
    "    a_reward = []\n",
    "    b_reward = []\n",
    "    # arrays for M values\n",
    "    M_opt = []\n",
    "    M_rand = []\n",
    "    for i in range(20000):\n",
    "        a_moves = []\n",
    "        b_moves = []\n",
    "\n",
    "        env.reset()\n",
    "        grid, _, __ = env.observe()\n",
    "        for j in range(9):\n",
    "            if i%2 == 0:\n",
    "                # get the q values\n",
    "                q_vals = Q_actions(env.grid)\n",
    "                # using epsilon from fixed values\n",
    "                epsilon = e_learn[y]\n",
    "                move = epsilon_action(q_vals, epsilon)\n",
    "                # add position and move to array\n",
    "                a_moves.append((np.copy(env.grid), move))\n",
    "                # get move in 2d format\n",
    "                move = (move//3, move%3)\n",
    "            else:\n",
    "                q_vals = Q_actions(env.grid)\n",
    "                epsilon = e_learn[y]\n",
    "                move = epsilon_action(q_vals, epsilon)\n",
    "                # append to b_moves\n",
    "                b_moves.append((np.copy(env.grid), move))\n",
    "                move = (move//3, move%3)\n",
    "\n",
    "            grid, end, winner = env.step(move)\n",
    "\n",
    "            # update the Q-values, this has to be done after opt moves or when the game ends\n",
    "            if (i%2 == 0) | end:\n",
    "                # get the current reward\n",
    "                reward = env.reward(player='X')\n",
    "                num_moves = len(a_moves)\n",
    "                if num_moves >= 2:\n",
    "                    position = a_moves[num_moves - 2][0]\n",
    "                    action = a_moves[num_moves - 2][1]\n",
    "                    Q_next_max = np.nanmax(Q_actions(a_moves[num_moves - 1][0]))\n",
    "                    # update all the Q-values up to the current move\n",
    "                    Q_table[str(position)][action] += step_size * (reward + discount * Q_next_max - Q_table[str(position)][action])\n",
    "            if ((i + 1) % 2 == 0) | end:\n",
    "                reward = env.reward(player='O')\n",
    "                num_moves = len(b_moves)\n",
    "                if num_moves >= 2:\n",
    "                    position = b_moves[num_moves - 2][0]\n",
    "                    action = b_moves[num_moves - 2][1]\n",
    "                    Q_next_max = np.nanmax(Q_actions(b_moves[num_moves - 1][0]))\n",
    "                    # update all the Q-values up to the current move\n",
    "                    Q_table[str(position)][action] += step_size * (reward + discount * Q_next_max - Q_table[str(position)][action])\n",
    "                    \n",
    "            if end:\n",
    "                # add rewards to arrays\n",
    "                a_reward.append(env.reward(player='X'))\n",
    "                b_reward.append(env.reward(player='O'))\n",
    "                env.reset()\n",
    "                break\n",
    "        # get the M values every 250th game\n",
    "        if (i%250) == 0:\n",
    "            M_opt.append(M(0))\n",
    "            M_rand.append(M(1))\n",
    "    # the the averages per 250 values\n",
    "    a250 = np.split(np.asarray(a_reward), 80)\n",
    "    a_averages = np.mean(a250, axis=1)\n",
    "    b250 = np.split(np.asarray(b_reward), 80)\n",
    "    b_averages = np.mean(b250, axis=1)\n",
    "    eps250 = np.split(np.asarray(eps_vals), 80)\n",
    "    eps_averages = np.mean(eps250, axis=1)\n",
    "\n",
    "    title = 'Average reward for selfplay with eps ' + str(e_learn[y])\n",
    "    plt.plot(a_averages, label = 'X')\n",
    "    plt.plot(b_averages, label = 'O')\n",
    "    plt.plot(M_opt, label = 'M_opt')\n",
    "    plt.plot(M_rand, label = 'M_rand')\n",
    "    plt.title(title)\n",
    "    plt.ylabel('Reward')\n",
    "    plt.xlabel('1/250 scale')\n",
    "    plt.legend()\n",
    "    plt.show()\n",
    "    \n",
    "    after = time.time()\n",
    "    print('time at',y,after-before)"
   ]
  },
  {
   "cell_type": "markdown",
   "metadata": {},
   "source": [
    "**Question 7:**\n",
    "It seems the agent improves with selfplay tabular Q-learning, but it does not reach a high level.\n",
    "\n",
    "The effect of epsilon seems to be:\n",
    "At 0 it gets stuck and does not improve.\n",
    "\n",
    "Above 0 it achieves some success, it seems 0.2 is the best epsilon from 0-0.4\n"
   ]
  },
  {
   "cell_type": "markdown",
   "metadata": {},
   "source": [
    "**With varying Epsilon:** according to n_star"
   ]
  },
  {
   "cell_type": "code",
   "execution_count": null,
   "metadata": {},
   "outputs": [],
   "source": [
    "n_star = [*range(1, 20000, 3500)]\n",
    "n_star.append(20000)\n",
    "e_min = 0.1\n",
    "e_max = 0.8"
   ]
  },
  {
   "cell_type": "code",
   "execution_count": null,
   "metadata": {},
   "outputs": [],
   "source": [
    "for y in range(len(n_star)):\n",
    "    before = time.time()\n",
    "    \n",
    "    # reset q-values between\n",
    "    Q_table = {} \n",
    "    a_reward = []\n",
    "    b_reward = []\n",
    "    # array for epsilon values to plot\n",
    "    eps_vals = [] \n",
    "    # arrays for M values\n",
    "    M_opt = []\n",
    "    M_rand = []\n",
    "    for i in range(20000):\n",
    "        a_moves = []\n",
    "        b_moves = []\n",
    "\n",
    "        env.reset()\n",
    "        grid, _, __ = env.observe()\n",
    "        for j in range(9):\n",
    "            if i%2 == 0:\n",
    "                # get the q values\n",
    "                q_vals = Q_actions(env.grid)\n",
    "                # using optimal n_star decreasing epsilon\n",
    "                epsilon = eps(i, n_star[y], e_min, e_max)\n",
    "                move = epsilon_action(q_vals, epsilon)\n",
    "                # add position and move to array\n",
    "                a_moves.append((np.copy(env.grid), move))\n",
    "                # get move in 2d format\n",
    "                move = (move//3, move%3)\n",
    "            else:\n",
    "                q_vals = Q_actions(env.grid)\n",
    "                epsilon = eps(i, n_star[y], e_min, e_max)\n",
    "                move = epsilon_action(q_vals, epsilon)\n",
    "                # append to b_moves\n",
    "                b_moves.append((np.copy(env.grid), move))\n",
    "                move = (move//3, move%3)\n",
    "\n",
    "            grid, end, winner = env.step(move)\n",
    "\n",
    "            # update the Q-values, this has to be done after opt moves or when the game ends\n",
    "            if (i%2 == 0) | end:\n",
    "                # get the current reward\n",
    "                reward = env.reward(player='X')\n",
    "                num_moves = len(a_moves)\n",
    "                if num_moves >= 2:\n",
    "                    position = a_moves[num_moves - 2][0]\n",
    "                    action = a_moves[num_moves - 2][1]\n",
    "                    Q_next_max = np.nanmax(Q_actions(a_moves[num_moves - 1][0]))\n",
    "                    # update all the Q-values up to the current move\n",
    "                    Q_table[str(position)][action] += step_size * (reward + discount * Q_next_max - Q_table[str(position)][action])\n",
    "            if ((i + 1) % 2 == 0) | end:\n",
    "                reward = env.reward(player='O')\n",
    "                num_moves = len(b_moves)\n",
    "                if num_moves >= 2:\n",
    "                    position = b_moves[num_moves - 2][0]\n",
    "                    action = b_moves[num_moves - 2][1]\n",
    "                    Q_next_max = np.nanmax(Q_actions(b_moves[num_moves - 1][0]))\n",
    "                    # update all the Q-values up to the current move\n",
    "                    Q_table[str(position)][action] += step_size * (reward + discount * Q_next_max - Q_table[str(position)][action])\n",
    "                    \n",
    "            if end:\n",
    "                # add rewards to arrays\n",
    "                a_reward.append(env.reward(player='X'))\n",
    "                b_reward.append(env.reward(player='O'))\n",
    "                # add to array for plotting\n",
    "                eps_vals.append(epsilon) \n",
    "                env.reset()\n",
    "                break\n",
    "        # get the M values every 250th game\n",
    "        if (i%250) == 0:\n",
    "            M_opt.append(M(0))\n",
    "            M_rand.append(M(1))\n",
    "    # the the averages per 250 values\n",
    "    a250 = np.split(np.asarray(a_reward), 80)\n",
    "    a_averages = np.mean(a250, axis=1)\n",
    "    b250 = np.split(np.asarray(b_reward), 80)\n",
    "    b_averages = np.mean(b250, axis=1)\n",
    "    eps250 = np.split(np.asarray(eps_vals), 80)\n",
    "    eps_averages = np.mean(eps250, axis=1)\n",
    "\n",
    "    title = 'Average reward for selfplay with n_star of ' + str(n_star[y])\n",
    "    plt.plot(a_averages, label = 'X')\n",
    "    plt.plot(b_averages, label = 'O')\n",
    "    plt.plot(eps_averages, label = 'epsilon')\n",
    "    plt.plot(M_opt, label = 'M_opt')\n",
    "    plt.plot(M_rand, label = 'M_rand')\n",
    "    plt.title(title)\n",
    "    plt.ylabel('Reward')\n",
    "    plt.xlabel('1/250 scale')\n",
    "    plt.legend()\n",
    "    plt.show()\n",
    "    \n",
    "    after = time.time()\n",
    "    print('time at',y,after-before)"
   ]
  },
  {
   "cell_type": "markdown",
   "metadata": {},
   "source": [
    "**Question 8:**\n",
    "Decreasing epsilon seems to have a *** impact on learning rate.\n",
    "\n",
    "The effect of n_star seems to be:\n",
    "\n"
   ]
  },
  {
   "cell_type": "code",
   "execution_count": null,
   "metadata": {},
   "outputs": [],
   "source": []
  },
  {
   "cell_type": "markdown",
   "metadata": {},
   "source": [
    "**Question 9:**\n",
    "The highest values of M_opt and M_rand is ***\n"
   ]
  },
  {
   "cell_type": "markdown",
   "metadata": {},
   "source": [
    "**Question 10:**\n",
    "Heat map for Q-values for 3 different states S.\n"
   ]
  },
  {
   "cell_type": "code",
   "execution_count": null,
   "metadata": {},
   "outputs": [],
   "source": [
    "symbol_map = {'-1' : 'O', '1': 'X'}\n",
    "def heatmap(pos):\n",
    "    arr = Q_table[pos].reshape((3,3))\n",
    "    \n",
    "    fig, ax = plt.subplots()\n",
    "    im = ax.imshow(arr)\n",
    "    # Loop over data dimensions and create text annotations.\n",
    "    for i in range(3):\n",
    "        for j in range(3):\n",
    "            if np.isnan(arr[i, j]):\n",
    "                symbol = symbol_map[re.findall(\"-?\\d\", pos)[(3*i)+j]]\n",
    "                text = ax.text(j, i, symbol,\n",
    "                           ha=\"center\", va=\"center\")\n",
    "            else:\n",
    "                text = ax.text(j, i, format(arr[i, j], \".3f\"),\n",
    "                           ha=\"center\", va=\"center\")\n",
    "    ax.set_title(\"Heatmap of Q-values\")\n",
    "    fig.tight_layout()\n",
    "    plt.show()"
   ]
  },
  {
   "cell_type": "code",
   "execution_count": null,
   "metadata": {},
   "outputs": [],
   "source": [
    "# 1 state for the beginning\n",
    "heatmap('[[0. 0. 0.]\\n [0. 0. 0.]\\n [0. 0. 0.]]')\n",
    "# 1 state for blocking 3 in a row\n",
    "heatmap('[[-1.  1. -1.]\\n [ 1.  0.  1.]\\n [ 0.  0.  0.]]')\n",
    "# 1 state for getting 3 in a row\n",
    "heatmap('[[-1. -1.  0.]\\n [ 0.  1.  1.]\\n [ 0.  0.  1.]]')"
   ]
  },
  {
   "cell_type": "markdown",
   "metadata": {},
   "source": [
    "Makes sense?\n",
    "\n",
    "**For 1:**\n",
    "No..\n",
    "\n",
    "**For 2:**\n",
    "No, middle should be way higher value. As in next turn it will have winning move any way\n",
    "\n",
    "**For 3:**\n",
    "No... It seems to have missed the corner. Values are bad.\n",
    "\n",
    "Did the agent learn the game well?\n",
    "Not so well,"
   ]
  },
  {
   "cell_type": "code",
   "execution_count": null,
   "metadata": {},
   "outputs": [],
   "source": []
  },
  {
   "cell_type": "markdown",
   "metadata": {},
   "source": [
    "# 3 Deep Q-Learning"
   ]
  },
  {
   "cell_type": "markdown",
   "metadata": {},
   "source": [
    "Implement it like in [https://keras.io/examples/rl/deep_q_network_breakout/]"
   ]
  },
  {
   "cell_type": "code",
   "execution_count": null,
   "metadata": {},
   "outputs": [],
   "source": [
    "example_grid = np.array([[1,-1,0],[0,1,-1],[-1,1,0]])\n",
    "example_grid"
   ]
  },
  {
   "cell_type": "code",
   "execution_count": null,
   "metadata": {},
   "outputs": [],
   "source": [
    "def grid_to_tensor(grid):\n",
    "    x = (grid == 1).astype(int)\n",
    "    o = (grid == -1).astype(int)\n",
    "    return np.dstack([x,o])"
   ]
  },
  {
   "cell_type": "code",
   "execution_count": null,
   "metadata": {},
   "outputs": [],
   "source": [
    "# demonstrate that it transforms to tensor the right way\n",
    "print(grid_to_tensor(example_grid))\n",
    "print(grid_to_tensor(example_grid).shape)"
   ]
  },
  {
   "cell_type": "code",
   "execution_count": null,
   "metadata": {},
   "outputs": [],
   "source": [
    "import tensorflow as tf\n",
    "from tensorflow import keras\n",
    "from tensorflow.keras import layers\n",
    "\n",
    "# Configuration paramaters for the whole setup\n",
    "seed = 42\n",
    "gamma = 0.99  # Discount factor for past rewards\n",
    "epsilon = 0.2 # the fixed epsilon parameter for question 11\n",
    "batch_size = 64  # Size of batch taken from replay buffer\n",
    "update_step = 500 #update at every 500 step\n",
    "buffer_size = 10000\n",
    "\n",
    "num_actions = 9\n",
    "\n",
    "max_memory_length = 10000\n",
    "\n",
    "rng = np.random.default_rng(499)"
   ]
  },
  {
   "cell_type": "code",
   "execution_count": null,
   "metadata": {},
   "outputs": [],
   "source": [
    "def create_q_model():\n",
    "    inputs = layers.Input(shape=(3, 3, 2))\n",
    "    layer1 = layers.Dense(128, activation=\"relu\")(inputs)\n",
    "    layer2 = layers.Dense(128, activation=\"relu\")(layer1)\n",
    "    layer3 = layers.Flatten()(layer2)\n",
    "    action = layers.Dense(9, activation=\"linear\")(layer3)\n",
    "\n",
    "    return keras.Model(inputs=inputs, outputs=action)\n",
    "\n",
    "#using adam optimizer with learning rate 5e-4\n",
    "optimizer = keras.optimizers.Adam(learning_rate=5e-4)\n",
    "\n",
    "# Using huber loss for stability\n",
    "loss_function = keras.losses.Huber()\n",
    "\n",
    "model = create_q_model()\n",
    "model_target = create_q_model()"
   ]
  },
  {
   "cell_type": "code",
   "execution_count": null,
   "metadata": {},
   "outputs": [],
   "source": [
    "# Experience replay buffers\n",
    "action_history = []\n",
    "state_history = []\n",
    "state_next_history = []\n",
    "rewards_history = []\n",
    "done_history = []\n",
    "episode_reward_history = []\n",
    "running_reward = 0\n",
    "episode_count = 0\n",
    "\n",
    "for i in range(1000):  # run 20000 times\n",
    "    env.reset()\n",
    "    episode_reward = 0\n",
    "\n",
    "    player_opt = OptimalPlayer(epsilon=0.5, player=Turns[i%2])\n",
    "    for j in range(9):\n",
    "        state = np.copy(env.grid)\n",
    "        done = False\n",
    "        reward = 0\n",
    "        \n",
    "        if env.current_player == player_opt.player:\n",
    "            action_2d = player_opt.act(grid)\n",
    "        else:\n",
    "            # Use epsilon-greedy for exploration\n",
    "            if epsilon > rng.random():\n",
    "                # Take random action\n",
    "                action = rng.choice(num_actions)\n",
    "                action_2d = (action//3, action%3)\n",
    "            else:\n",
    "                # Predict action Q-values\n",
    "                # From environment state\n",
    "                state_tensor = grid_to_tensor(env.grid)\n",
    "                state_tensor = tf.expand_dims(state_tensor, 0)\n",
    "                action_probs = model(state_tensor, training=False)\n",
    "                # Take best action\n",
    "                action = tf.argmax(action_probs[0]).numpy()\n",
    "                action_2d = (action//3, action%3)\n",
    "        \n",
    "        # if taking illegal move\n",
    "        if state[action_2d[0]][action_2d[1]] != 0:\n",
    "            reward = -1\n",
    "            done = True #finish game\n",
    "            episode_reward += reward\n",
    "            # Save actions and states in replay buffer\n",
    "            action_history.append(action)\n",
    "            state_history.append(state)\n",
    "            state_next_history.append(state_next)\n",
    "            done_history.append(done)\n",
    "            rewards_history.append(reward)\n",
    "            \n",
    "        if not done:\n",
    "            state_next, end, winner = env.step(action_2d)\n",
    "        \n",
    "        if env.current_player == player_opt.player:\n",
    "            episode_reward += reward\n",
    "            # Save actions and states in replay buffer\n",
    "            action_history.append(action)\n",
    "            state_history.append(state)\n",
    "            state_next_history.append(state_next)\n",
    "            done_history.append(done)\n",
    "            rewards_history.append(reward)\n",
    "            state = state_next\n",
    "\n",
    "        # Update after every game\n",
    "        if done:\n",
    "            # Get indices of samples for replay buffers\n",
    "            indices = np.random.choice(range(len(done_history)), size=batch_size)\n",
    "\n",
    "            # Using list comprehension to sample from replay buffer\n",
    "            state_sample = np.array([state_history[i] for i in indices])\n",
    "            state_next_sample = np.array([state_next_history[i] for i in indices])\n",
    "            rewards_sample = [rewards_history[i] for i in indices]\n",
    "            action_sample = [action_history[i] for i in indices]\n",
    "            done_sample = tf.convert_to_tensor(\n",
    "                [float(done_history[i]) for i in indices]\n",
    "            )\n",
    "\n",
    "            # Build the updated Q-values for the sampled future states\n",
    "            # Use the target model for stability\n",
    "            # reshape to 64, 3, 3, 2\n",
    "            future_rewards = model_target.predict(np.array([grid_to_tensor(x) for x in state_next_sample]))\n",
    "            # Q value = reward + discount factor * expected future reward\n",
    "            updated_q_values = rewards_sample + gamma * tf.reduce_max(\n",
    "                future_rewards, axis=1\n",
    "            )\n",
    "\n",
    "            # If final frame set the last value to -1\n",
    "            updated_q_values = updated_q_values * (1 - done_sample) - done_sample\n",
    "\n",
    "            # Create a mask so we only calculate loss on the updated Q-values\n",
    "            masks = tf.one_hot(action_sample, num_actions)\n",
    "\n",
    "            with tf.GradientTape() as tape:\n",
    "                # Train the model on the states and updated Q-values\n",
    "                q_values = model(state_sample)\n",
    "\n",
    "                # Apply the masks to the Q-values to get the Q-value for action taken\n",
    "                q_action = tf.reduce_sum(tf.multiply(q_values, masks), axis=1)\n",
    "                # Calculate loss between new Q-value and old Q-value\n",
    "                loss = loss_function(updated_q_values, q_action)\n",
    "\n",
    "            # Backpropagation\n",
    "            grads = tape.gradient(loss, model.trainable_variables)\n",
    "            optimizer.apply_gradients(zip(grads, model.trainable_variables))\n",
    "\n",
    "            # update the the target network with new weights\n",
    "            model_target.set_weights(model.get_weights())\n",
    "            # Log details\n",
    "            template = \"running reward: {:.2f} at episode {}\"\n",
    "            print(template.format(running_reward, episode_count))\n",
    "\n",
    "        # Limit the state and reward history\n",
    "        if len(rewards_history) > max_memory_length:\n",
    "            del rewards_history[:1]\n",
    "            del state_history[:1]\n",
    "            del state_next_history[:1]\n",
    "            del action_history[:1]\n",
    "            del done_history[:1]\n",
    "\n",
    "        if done:\n",
    "            break\n",
    "\n",
    "    # Update running reward to check condition for solving\n",
    "    episode_reward_history.append(episode_reward)\n",
    "    if len(episode_reward_history) > 100:\n",
    "        del episode_reward_history[:1]\n",
    "    running_reward = np.mean(episode_reward_history)\n",
    "\n",
    "    episode_count += 1\n",
    "\n",
    "    if running_reward > 40:  # Condition to consider the task solved\n",
    "        print(\"Solved at episode {}!\".format(episode_count))\n",
    "        break"
   ]
  },
  {
   "cell_type": "code",
   "execution_count": null,
   "metadata": {},
   "outputs": [],
   "source": [
    "print(action_history)\n",
    "print(state_history)\n",
    "print(state_next_history)\n",
    "print(rewards_history)\n",
    "print(done_history)\n",
    "print(episode_reward_history)"
   ]
  },
  {
   "cell_type": "code",
   "execution_count": null,
   "metadata": {},
   "outputs": [],
   "source": [
    "print(np.array([grid_to_tensor(x) for x in state_next_sample]).shape)"
   ]
  }
 ],
 "metadata": {
  "kernelspec": {
   "display_name": "CS456",
   "language": "python",
   "name": "cs456"
  },
  "language_info": {
   "codemirror_mode": {
    "name": "ipython",
    "version": 3
   },
   "file_extension": ".py",
   "mimetype": "text/x-python",
   "name": "python",
   "nbconvert_exporter": "python",
   "pygments_lexer": "ipython3",
   "version": "3.7.13"
  }
 },
 "nbformat": 4,
 "nbformat_minor": 4
}
