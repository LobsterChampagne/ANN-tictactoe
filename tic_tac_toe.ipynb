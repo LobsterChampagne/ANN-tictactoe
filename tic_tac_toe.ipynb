{
 "cells": [
  {
   "cell_type": "code",
   "execution_count": 1,
   "metadata": {},
   "outputs": [],
   "source": [
    "import numpy as np\n",
    "from tic_env import TictactoeEnv, OptimalPlayer\n",
    "import matplotlib.pyplot as plt\n",
    "import warnings\n",
    "warnings.simplefilter(action='ignore', category=FutureWarning)"
   ]
  },
  {
   "cell_type": "markdown",
   "metadata": {},
   "source": [
    "# Tic Toc Toe environment"
   ]
  },
  {
   "cell_type": "markdown",
   "metadata": {},
   "source": [
    "Our 1st game is the famous Tic Toc Toe. You can read about the game and its rules here: https://en.wikipedia.org/wiki/Tic-tac-toe\n",
    "\n",
    "We implemented the game as an environment in the style of games in the [Python GYM library](https://gym.openai.com/). The commented source code is available in the file \"tic_env.py\". Here, we give a brief introduction to the environment and how it can be used."
   ]
  },
  {
   "cell_type": "markdown",
   "metadata": {},
   "source": [
    "### Initialization and attributes"
   ]
  },
  {
   "cell_type": "markdown",
   "metadata": {},
   "source": [
    "You can initialize the environment / game as following:"
   ]
  },
  {
   "cell_type": "code",
   "execution_count": 2,
   "metadata": {},
   "outputs": [],
   "source": [
    "env = TictactoeEnv()"
   ]
  },
  {
   "cell_type": "markdown",
   "metadata": {},
   "source": [
    "Which then has the following attributes with the corresponding initial values:"
   ]
  },
  {
   "cell_type": "code",
   "execution_count": 3,
   "metadata": {
    "scrolled": true
   },
   "outputs": [
    {
     "data": {
      "text/plain": [
       "{'grid': array([[0., 0., 0.],\n",
       "        [0., 0., 0.],\n",
       "        [0., 0., 0.]]),\n",
       " 'end': False,\n",
       " 'winner': None,\n",
       " 'player2value': {'X': 1, 'O': -1},\n",
       " 'num_step': 0,\n",
       " 'current_player': 'X'}"
      ]
     },
     "execution_count": 3,
     "metadata": {},
     "output_type": "execute_result"
    }
   ],
   "source": [
    "env.__dict__"
   ]
  },
  {
   "cell_type": "markdown",
   "metadata": {},
   "source": [
    "The game is played by two players: player 'X' and player 'O'. The attribute 'current_player' shows whose turn it is. We assume that player 'X' always plays first.\n",
    "\n",
    "The attribute 'grid' is a 3x3 numpy array and presents the board in the real game and the state $s_t$ in the reinfocement learning language. Each elements can take a value in {0, 1, -1}:\n",
    "     0 : place unmarked\n",
    "     1 : place marked with X \n",
    "    -1 : place marked with O \n",
    "        \n",
    "The attribute 'end' shows if the game is over or not, and the attribute 'winner' shows the winner of the game: either \"X\", \"O\", or None.  "
   ]
  },
  {
   "cell_type": "markdown",
   "metadata": {},
   "source": [
    "You can use function 'render' to visualize the current position of the board:"
   ]
  },
  {
   "cell_type": "code",
   "execution_count": 4,
   "metadata": {},
   "outputs": [
    {
     "name": "stdout",
     "output_type": "stream",
     "text": [
      "|- - -|\n",
      "|- - -|\n",
      "|- - -|\n",
      "\n"
     ]
    }
   ],
   "source": [
    "env.render()"
   ]
  },
  {
   "cell_type": "markdown",
   "metadata": {},
   "source": [
    "### Taking actions"
   ]
  },
  {
   "cell_type": "markdown",
   "metadata": {},
   "source": [
    "The game environment will recieve action from two players in turn and update the grid. At each time, one player can take the action $a_t$, where $a_t$ can either be an integer between 0 to 8 or a touple, corresponding to the 9 possible.\n",
    "\n",
    "Function 'step' is used to recieve the action of the player, update the grid:"
   ]
  },
  {
   "cell_type": "code",
   "execution_count": 5,
   "metadata": {},
   "outputs": [
    {
     "data": {
      "text/plain": [
       "(array([[0., 0., 1.],\n",
       "        [0., 0., 0.],\n",
       "        [0., 0., 0.]]),\n",
       " False,\n",
       " None)"
      ]
     },
     "execution_count": 5,
     "metadata": {},
     "output_type": "execute_result"
    }
   ],
   "source": [
    "env.step(2)"
   ]
  },
  {
   "cell_type": "code",
   "execution_count": 6,
   "metadata": {},
   "outputs": [
    {
     "name": "stdout",
     "output_type": "stream",
     "text": [
      "|- - X|\n",
      "|- - -|\n",
      "|- - -|\n",
      "\n"
     ]
    }
   ],
   "source": [
    "env.render()"
   ]
  },
  {
   "cell_type": "code",
   "execution_count": 7,
   "metadata": {
    "scrolled": false
   },
   "outputs": [
    {
     "data": {
      "text/plain": [
       "{'grid': array([[0., 0., 1.],\n",
       "        [0., 0., 0.],\n",
       "        [0., 0., 0.]]),\n",
       " 'end': False,\n",
       " 'winner': None,\n",
       " 'player2value': {'X': 1, 'O': -1},\n",
       " 'num_step': 1,\n",
       " 'current_player': 'O'}"
      ]
     },
     "execution_count": 7,
     "metadata": {},
     "output_type": "execute_result"
    }
   ],
   "source": [
    "env.__dict__"
   ]
  },
  {
   "cell_type": "code",
   "execution_count": 8,
   "metadata": {
    "scrolled": true
   },
   "outputs": [
    {
     "data": {
      "text/plain": [
       "(array([[ 0.,  0.,  1.],\n",
       "        [ 0., -1.,  0.],\n",
       "        [ 0.,  0.,  0.]]),\n",
       " False,\n",
       " None)"
      ]
     },
     "execution_count": 8,
     "metadata": {},
     "output_type": "execute_result"
    }
   ],
   "source": [
    "env.step((1,1))"
   ]
  },
  {
   "cell_type": "code",
   "execution_count": 9,
   "metadata": {
    "scrolled": true
   },
   "outputs": [
    {
     "name": "stdout",
     "output_type": "stream",
     "text": [
      "|- - X|\n",
      "|- O -|\n",
      "|- - -|\n",
      "\n"
     ]
    }
   ],
   "source": [
    "env.render()"
   ]
  },
  {
   "cell_type": "code",
   "execution_count": 10,
   "metadata": {},
   "outputs": [
    {
     "data": {
      "text/plain": [
       "{'grid': array([[ 0.,  0.,  1.],\n",
       "        [ 0., -1.,  0.],\n",
       "        [ 0.,  0.,  0.]]),\n",
       " 'end': False,\n",
       " 'winner': None,\n",
       " 'player2value': {'X': 1, 'O': -1},\n",
       " 'num_step': 2,\n",
       " 'current_player': 'X'}"
      ]
     },
     "execution_count": 10,
     "metadata": {},
     "output_type": "execute_result"
    }
   ],
   "source": [
    "env.__dict__"
   ]
  },
  {
   "cell_type": "markdown",
   "metadata": {},
   "source": [
    "But not all actions are available at each time: One cannot choose a place which has been taken before. There is an error if an unavailable action is taken:"
   ]
  },
  {
   "cell_type": "markdown",
   "metadata": {},
   "source": [
    "### Reward"
   ]
  },
  {
   "cell_type": "markdown",
   "metadata": {},
   "source": [
    "Reward is always 0 until the end of the game. When the game is over, the reward is 1 if you win the game, -1 if you lose, and 0 besides. Function 'observe' can be used after each step to recieve the new state $s_t$, whether the game is over, and the winner, and function 'reward' to get the reward value $r_t$:"
   ]
  },
  {
   "cell_type": "code",
   "execution_count": 11,
   "metadata": {},
   "outputs": [
    {
     "data": {
      "text/plain": [
       "(array([[ 0.,  0.,  1.],\n",
       "        [ 0., -1.,  0.],\n",
       "        [ 0.,  0.,  0.]]),\n",
       " False,\n",
       " None)"
      ]
     },
     "execution_count": 11,
     "metadata": {},
     "output_type": "execute_result"
    }
   ],
   "source": [
    "env.observe()"
   ]
  },
  {
   "cell_type": "code",
   "execution_count": 12,
   "metadata": {},
   "outputs": [
    {
     "data": {
      "text/plain": [
       "0"
      ]
     },
     "execution_count": 12,
     "metadata": {},
     "output_type": "execute_result"
    }
   ],
   "source": [
    "env.reward(player='X')"
   ]
  },
  {
   "cell_type": "code",
   "execution_count": 13,
   "metadata": {},
   "outputs": [
    {
     "data": {
      "text/plain": [
       "0"
      ]
     },
     "execution_count": 13,
     "metadata": {},
     "output_type": "execute_result"
    }
   ],
   "source": [
    "env.reward(player='O')"
   ]
  },
  {
   "cell_type": "markdown",
   "metadata": {},
   "source": [
    "An example of finishing the game:"
   ]
  },
  {
   "cell_type": "code",
   "execution_count": 14,
   "metadata": {},
   "outputs": [
    {
     "data": {
      "text/plain": [
       "(array([[ 1.,  1.,  1.],\n",
       "        [-1., -1.,  0.],\n",
       "        [ 0.,  0.,  0.]]),\n",
       " True,\n",
       " 'X')"
      ]
     },
     "execution_count": 14,
     "metadata": {},
     "output_type": "execute_result"
    }
   ],
   "source": [
    "env.step(0)\n",
    "env.step(3)\n",
    "env.step(1)"
   ]
  },
  {
   "cell_type": "code",
   "execution_count": 15,
   "metadata": {},
   "outputs": [
    {
     "name": "stdout",
     "output_type": "stream",
     "text": [
      "|X X X|\n",
      "|O O -|\n",
      "|- - -|\n",
      "\n"
     ]
    }
   ],
   "source": [
    "env.render()"
   ]
  },
  {
   "cell_type": "code",
   "execution_count": 16,
   "metadata": {},
   "outputs": [
    {
     "data": {
      "text/plain": [
       "(array([[ 1.,  1.,  1.],\n",
       "        [-1., -1.,  0.],\n",
       "        [ 0.,  0.,  0.]]),\n",
       " True,\n",
       " 'X')"
      ]
     },
     "execution_count": 16,
     "metadata": {},
     "output_type": "execute_result"
    }
   ],
   "source": [
    "env.observe()"
   ]
  },
  {
   "cell_type": "code",
   "execution_count": 17,
   "metadata": {},
   "outputs": [
    {
     "data": {
      "text/plain": [
       "1"
      ]
     },
     "execution_count": 17,
     "metadata": {},
     "output_type": "execute_result"
    }
   ],
   "source": [
    "env.reward(player='X')"
   ]
  },
  {
   "cell_type": "code",
   "execution_count": 18,
   "metadata": {},
   "outputs": [
    {
     "data": {
      "text/plain": [
       "-1"
      ]
     },
     "execution_count": 18,
     "metadata": {},
     "output_type": "execute_result"
    }
   ],
   "source": [
    "env.reward(player='O')"
   ]
  },
  {
   "cell_type": "markdown",
   "metadata": {},
   "source": [
    "# Optimal policy for Tic Toc Toe environment"
   ]
  },
  {
   "cell_type": "markdown",
   "metadata": {},
   "source": [
    "Fortunately, we know the exact optimal policy for Tic Toc Toe. We have implemented and $\\epsilon$-greedy version of optimal polciy which you can use for the project."
   ]
  },
  {
   "cell_type": "code",
   "execution_count": 19,
   "metadata": {},
   "outputs": [],
   "source": [
    "env.reset();"
   ]
  },
  {
   "cell_type": "code",
   "execution_count": 20,
   "metadata": {},
   "outputs": [],
   "source": [
    "opt_player = OptimalPlayer(epsilon = 0., player = 'X')"
   ]
  },
  {
   "cell_type": "code",
   "execution_count": 21,
   "metadata": {},
   "outputs": [
    {
     "data": {
      "text/plain": [
       "(2, 2)"
      ]
     },
     "execution_count": 21,
     "metadata": {},
     "output_type": "execute_result"
    }
   ],
   "source": [
    "opt_player.act(env.grid)"
   ]
  },
  {
   "cell_type": "code",
   "execution_count": 22,
   "metadata": {
    "scrolled": true
   },
   "outputs": [
    {
     "data": {
      "text/plain": [
       "'X'"
      ]
     },
     "execution_count": 22,
     "metadata": {},
     "output_type": "execute_result"
    }
   ],
   "source": [
    "opt_player.player"
   ]
  },
  {
   "cell_type": "markdown",
   "metadata": {},
   "source": [
    "### An example of optimal player playing against random player"
   ]
  },
  {
   "cell_type": "code",
   "execution_count": 23,
   "metadata": {},
   "outputs": [
    {
     "name": "stdout",
     "output_type": "stream",
     "text": [
      "-------------------------------------------\n",
      "Game end, winner is player X\n",
      "Optimal player = X\n",
      "Random player = O\n",
      "|- - X|\n",
      "|- X O|\n",
      "|X O -|\n",
      "\n",
      "-------------------------------------------\n",
      "Game end, winner is player O\n",
      "Optimal player = O\n",
      "Random player = X\n",
      "|- X O|\n",
      "|- X O|\n",
      "|X - O|\n",
      "\n",
      "-------------------------------------------\n",
      "Game end, winner is player X\n",
      "Optimal player = X\n",
      "Random player = O\n",
      "|O O X|\n",
      "|- X X|\n",
      "|O - X|\n",
      "\n",
      "-------------------------------------------\n",
      "Game end, winner is player X\n",
      "Optimal player = X\n",
      "Random player = O\n",
      "|O O X|\n",
      "|- X -|\n",
      "|X - -|\n",
      "\n",
      "-------------------------------------------\n",
      "Game end, winner is player X\n",
      "Optimal player = X\n",
      "Random player = O\n",
      "|X O O|\n",
      "|- X -|\n",
      "|- - X|\n",
      "\n"
     ]
    }
   ],
   "source": [
    "Turns = np.array(['X','O'])\n",
    "for i in range(5):\n",
    "    env.reset()\n",
    "    grid, _, __ = env.observe()\n",
    "    Turns = Turns[np.random.permutation(2)]\n",
    "    player_opt = OptimalPlayer(epsilon=0., player=Turns[0])\n",
    "    player_rnd = OptimalPlayer(epsilon=1., player=Turns[1])\n",
    "    for j in range(9):\n",
    "        if env.current_player == player_opt.player:\n",
    "            move = player_opt.act(grid)\n",
    "        else:\n",
    "            move = player_rnd.act(grid)\n",
    "\n",
    "        grid, end, winner = env.step(move, print_grid=False)\n",
    "\n",
    "        if end:\n",
    "            print('-------------------------------------------')\n",
    "            print('Game end, winner is player ' + str(winner))\n",
    "            print('Optimal player = ' +  Turns[0])\n",
    "            print('Random player = ' +  Turns[1])\n",
    "            env.render()\n",
    "            env.reset()\n",
    "            break\n"
   ]
  },
  {
   "cell_type": "markdown",
   "metadata": {},
   "source": [
    "### An example of optimal player playing against optimal player"
   ]
  },
  {
   "cell_type": "code",
   "execution_count": 24,
   "metadata": {
    "scrolled": true
   },
   "outputs": [
    {
     "name": "stdout",
     "output_type": "stream",
     "text": [
      "-------------------------------------------\n",
      "Game end, winner is player None\n",
      "Optimal player 1 = O\n",
      "Optimal player 2 = X\n",
      "|O X X|\n",
      "|X O O|\n",
      "|X O X|\n",
      "\n",
      "-------------------------------------------\n",
      "Game end, winner is player None\n",
      "Optimal player 1 = O\n",
      "Optimal player 2 = X\n",
      "|X O X|\n",
      "|X O O|\n",
      "|O X X|\n",
      "\n",
      "-------------------------------------------\n",
      "Game end, winner is player None\n",
      "Optimal player 1 = O\n",
      "Optimal player 2 = X\n",
      "|O X X|\n",
      "|X O O|\n",
      "|X O X|\n",
      "\n",
      "-------------------------------------------\n",
      "Game end, winner is player None\n",
      "Optimal player 1 = X\n",
      "Optimal player 2 = O\n",
      "|X O X|\n",
      "|O X X|\n",
      "|O X O|\n",
      "\n",
      "-------------------------------------------\n",
      "Game end, winner is player None\n",
      "Optimal player 1 = O\n",
      "Optimal player 2 = X\n",
      "|X X O|\n",
      "|O O X|\n",
      "|X O X|\n",
      "\n"
     ]
    }
   ],
   "source": [
    "Turns = np.array(['X','O'])\n",
    "for i in range(5):\n",
    "    env.reset()\n",
    "    grid, _, __ = env.observe()\n",
    "    Turns = Turns[np.random.permutation(2)]\n",
    "    player_opt_1 = OptimalPlayer(epsilon=0., player=Turns[0])\n",
    "    player_opt_2 = OptimalPlayer(epsilon=0., player=Turns[1])\n",
    "    for j in range(9):\n",
    "        if env.current_player == player_opt.player:\n",
    "            move = player_opt_1.act(grid)\n",
    "        else:\n",
    "            move = player_opt_2.act(grid)\n",
    "\n",
    "        grid, end, winner = env.step(move, print_grid=False)\n",
    "\n",
    "        if end:\n",
    "            print('-------------------------------------------')\n",
    "            print('Game end, winner is player ' + str(winner))\n",
    "            print('Optimal player 1 = ' +  Turns[0])\n",
    "            print('Optimal player 2 = ' +  Turns[1])\n",
    "            env.render()\n",
    "            env.reset()\n",
    "            break\n"
   ]
  },
  {
   "cell_type": "markdown",
   "metadata": {},
   "source": [
    "test"
   ]
  },
  {
   "cell_type": "code",
   "execution_count": 25,
   "metadata": {},
   "outputs": [
    {
     "name": "stdout",
     "output_type": "stream",
     "text": [
      "Reward X = 961\n",
      "Reward O = -961\n"
     ]
    }
   ],
   "source": [
    "Turns = np.array(['X','O'])\n",
    "X_reward = []\n",
    "O_reward = []\n",
    "for i in range(1000):\n",
    "    env.reset()\n",
    "    grid, _, __ = env.observe()\n",
    "    player_X = OptimalPlayer(epsilon=0., player='X')\n",
    "    player_O = OptimalPlayer(epsilon=1., player='O')\n",
    "    for j in range(9):\n",
    "        if env.current_player == player_X.player:\n",
    "            move = player_X.act(grid)\n",
    "        else:\n",
    "            move = player_O.act(grid)\n",
    "\n",
    "        grid, end, winner = env.step(move, print_grid=False)\n",
    "\n",
    "        if end:\n",
    "            X_reward.append(env.reward(player='X'))\n",
    "            O_reward.append(env.reward(player='O'))\n",
    "            env.reset()\n",
    "            break\n",
    "print('Reward X = ' +  str(sum(X_reward)))\n",
    "print('Reward O = ' +  str(sum(O_reward)))"
   ]
  },
  {
   "cell_type": "markdown",
   "metadata": {},
   "source": [
    "# Q-Learning"
   ]
  },
  {
   "cell_type": "markdown",
   "metadata": {},
   "source": [
    "### 2.1"
   ]
  },
  {
   "cell_type": "code",
   "execution_count": 26,
   "metadata": {},
   "outputs": [],
   "source": [
    "step_size = 0.05\n",
    "discount = 0.99\n",
    "epsilon = 0.1"
   ]
  },
  {
   "cell_type": "code",
   "execution_count": 27,
   "metadata": {},
   "outputs": [
    {
     "data": {
      "text/plain": [
       "{'[[0. 0. 0.]\\n [0. 0. 0.]\\n [0. 0. 0.]]': array([0., 0., 0., 0., 0., 0., 0., 0., 0.])}"
      ]
     },
     "execution_count": 27,
     "metadata": {},
     "output_type": "execute_result"
    }
   ],
   "source": [
    "Q_table = {str(np.zeros((3,3))) : np.zeros(9)}\n",
    "Q_table"
   ]
  },
  {
   "cell_type": "code",
   "execution_count": 28,
   "metadata": {},
   "outputs": [],
   "source": [
    "def Q_actions(s):\n",
    "    # s is a np grid\n",
    "    if(Q_table.get(str(s),'a') == 'a'):\n",
    "        Q_table[str(s)] = np.where(s.flatten() == 0, s.flatten(), np.nan)\n",
    "    return Q_table[str(s)]"
   ]
  },
  {
   "cell_type": "code",
   "execution_count": 29,
   "metadata": {},
   "outputs": [],
   "source": [
    "def Q(s, a):\n",
    "    return Q_actions(str(s))[a]"
   ]
  },
  {
   "cell_type": "code",
   "execution_count": 30,
   "metadata": {},
   "outputs": [
    {
     "data": {
      "text/plain": [
       "(array([[1., 0., 0.],\n",
       "        [0., 0., 0.],\n",
       "        [0., 0., 0.]]),\n",
       " False,\n",
       " None)"
      ]
     },
     "execution_count": 30,
     "metadata": {},
     "output_type": "execute_result"
    }
   ],
   "source": [
    "env.reset()\n",
    "env.step(0)"
   ]
  },
  {
   "cell_type": "code",
   "execution_count": 31,
   "metadata": {},
   "outputs": [
    {
     "data": {
      "text/plain": [
       "array([nan,  0.,  0.,  0.,  0.,  0.,  0.,  0.,  0.])"
      ]
     },
     "execution_count": 31,
     "metadata": {},
     "output_type": "execute_result"
    }
   ],
   "source": [
    "Q_actions(env.grid)"
   ]
  },
  {
   "cell_type": "code",
   "execution_count": 32,
   "metadata": {},
   "outputs": [
    {
     "data": {
      "text/plain": [
       "{'[[0. 0. 0.]\\n [0. 0. 0.]\\n [0. 0. 0.]]': array([0., 0., 0., 0., 0., 0., 0., 0., 0.]),\n",
       " '[[1. 0. 0.]\\n [0. 0. 0.]\\n [0. 0. 0.]]': array([nan,  0.,  0.,  0.,  0.,  0.,  0.,  0.,  0.])}"
      ]
     },
     "execution_count": 32,
     "metadata": {},
     "output_type": "execute_result"
    }
   ],
   "source": [
    "Q_table"
   ]
  },
  {
   "cell_type": "code",
   "execution_count": 33,
   "metadata": {},
   "outputs": [],
   "source": [
    "# let two random play to fill out a bit of the table\n",
    "for i in range(100):\n",
    "    env.reset()\n",
    "    grid, _, __ = env.observe()\n",
    "    player_X = OptimalPlayer(epsilon=1., player='X')\n",
    "    player_O = OptimalPlayer(epsilon=1., player='O')\n",
    "    for j in range(9):\n",
    "        if env.current_player == player_X.player:\n",
    "            move = player_X.act(grid)\n",
    "        else:\n",
    "            move = player_O.act(grid)\n",
    "\n",
    "        grid, end, winner = env.step(move, print_grid=False)\n",
    "        Q_actions(env.grid)\n",
    "\n",
    "        if end:\n",
    "            env.reset()\n",
    "            break"
   ]
  },
  {
   "cell_type": "code",
   "execution_count": 34,
   "metadata": {},
   "outputs": [
    {
     "data": {
      "text/plain": [
       "577"
      ]
     },
     "execution_count": 34,
     "metadata": {},
     "output_type": "execute_result"
    }
   ],
   "source": [
    "len(Q_table)"
   ]
  },
  {
   "cell_type": "code",
   "execution_count": 35,
   "metadata": {},
   "outputs": [
    {
     "data": {
      "text/plain": [
       "{'[[0. 0. 0.]\\n [0. 0. 0.]\\n [0. 0. 0.]]': array([0., 0., 0., 0., 0., 0., 0., 0., 0.]),\n",
       " '[[1. 0. 0.]\\n [0. 0. 0.]\\n [0. 0. 0.]]': array([nan,  0.,  0.,  0.,  0.,  0.,  0.,  0.,  0.]),\n",
       " '[[ 1.  0.  0.]\\n [ 0.  0.  0.]\\n [ 0. -1.  0.]]': array([nan,  0.,  0.,  0.,  0.,  0.,  0., nan,  0.]),\n",
       " '[[ 1.  0.  0.]\\n [ 0.  0.  1.]\\n [ 0. -1.  0.]]': array([nan,  0.,  0.,  0.,  0., nan,  0., nan,  0.]),\n",
       " '[[ 1.  0.  0.]\\n [ 0. -1.  1.]\\n [ 0. -1.  0.]]': array([nan,  0.,  0.,  0., nan, nan,  0., nan,  0.]),\n",
       " '[[ 1.  0.  1.]\\n [ 0. -1.  1.]\\n [ 0. -1.  0.]]': array([nan,  0., nan,  0., nan, nan,  0., nan,  0.]),\n",
       " '[[ 1.  0.  1.]\\n [-1. -1.  1.]\\n [ 0. -1.  0.]]': array([nan,  0., nan, nan, nan, nan,  0., nan,  0.]),\n",
       " '[[ 1.  0.  1.]\\n [-1. -1.  1.]\\n [ 1. -1.  0.]]': array([nan,  0., nan, nan, nan, nan, nan, nan,  0.]),\n",
       " '[[ 1.  0.  1.]\\n [-1. -1.  1.]\\n [ 1. -1. -1.]]': array([nan,  0., nan, nan, nan, nan, nan, nan, nan]),\n",
       " '[[ 1.  1.  1.]\\n [-1. -1.  1.]\\n [ 1. -1. -1.]]': array([nan, nan, nan, nan, nan, nan, nan, nan, nan]),\n",
       " '[[ 1. -1.  0.]\\n [ 0.  0.  0.]\\n [ 0.  0.  0.]]': array([nan, nan,  0.,  0.,  0.,  0.,  0.,  0.,  0.]),\n",
       " '[[ 1. -1.  0.]\\n [ 0.  1.  0.]\\n [ 0.  0.  0.]]': array([nan, nan,  0.,  0., nan,  0.,  0.,  0.,  0.]),\n",
       " '[[ 1. -1.  0.]\\n [ 0.  1.  0.]\\n [ 0. -1.  0.]]': array([nan, nan,  0.,  0., nan,  0.,  0., nan,  0.]),\n",
       " '[[ 1. -1.  0.]\\n [ 0.  1.  1.]\\n [ 0. -1.  0.]]': array([nan, nan,  0.,  0., nan, nan,  0., nan,  0.]),\n",
       " '[[ 1. -1.  0.]\\n [ 0.  1.  1.]\\n [-1. -1.  0.]]': array([nan, nan,  0.,  0., nan, nan, nan, nan,  0.]),\n",
       " '[[ 1. -1.  0.]\\n [ 0.  1.  1.]\\n [-1. -1.  1.]]': array([nan, nan,  0.,  0., nan, nan, nan, nan, nan]),\n",
       " '[[0. 1. 0.]\\n [0. 0. 0.]\\n [0. 0. 0.]]': array([ 0., nan,  0.,  0.,  0.,  0.,  0.,  0.,  0.]),\n",
       " '[[ 0.  1.  0.]\\n [ 0. -1.  0.]\\n [ 0.  0.  0.]]': array([ 0., nan,  0.,  0., nan,  0.,  0.,  0.,  0.]),\n",
       " '[[ 0.  1.  1.]\\n [ 0. -1.  0.]\\n [ 0.  0.  0.]]': array([ 0., nan, nan,  0., nan,  0.,  0.,  0.,  0.]),\n",
       " '[[ 0.  1.  1.]\\n [ 0. -1.  0.]\\n [-1.  0.  0.]]': array([ 0., nan, nan,  0., nan,  0., nan,  0.,  0.]),\n",
       " '[[ 0.  1.  1.]\\n [ 0. -1.  0.]\\n [-1.  1.  0.]]': array([ 0., nan, nan,  0., nan,  0., nan, nan,  0.]),\n",
       " '[[ 0.  1.  1.]\\n [ 0. -1. -1.]\\n [-1.  1.  0.]]': array([ 0., nan, nan,  0., nan, nan, nan, nan,  0.]),\n",
       " '[[ 0.  1.  1.]\\n [ 1. -1. -1.]\\n [-1.  1.  0.]]': array([ 0., nan, nan, nan, nan, nan, nan, nan,  0.]),\n",
       " '[[-1.  1.  1.]\\n [ 1. -1. -1.]\\n [-1.  1.  0.]]': array([nan, nan, nan, nan, nan, nan, nan, nan,  0.]),\n",
       " '[[-1.  1.  1.]\\n [ 1. -1. -1.]\\n [-1.  1.  1.]]': array([nan, nan, nan, nan, nan, nan, nan, nan, nan]),\n",
       " '[[0. 0. 0.]\\n [0. 0. 0.]\\n [0. 0. 1.]]': array([ 0.,  0.,  0.,  0.,  0.,  0.,  0.,  0., nan]),\n",
       " '[[-1.  0.  0.]\\n [ 0.  0.  0.]\\n [ 0.  0.  1.]]': array([nan,  0.,  0.,  0.,  0.,  0.,  0.,  0., nan]),\n",
       " '[[-1.  0.  0.]\\n [ 0.  1.  0.]\\n [ 0.  0.  1.]]': array([nan,  0.,  0.,  0., nan,  0.,  0.,  0., nan]),\n",
       " '[[-1.  0.  0.]\\n [ 0.  1. -1.]\\n [ 0.  0.  1.]]': array([nan,  0.,  0.,  0., nan, nan,  0.,  0., nan]),\n",
       " '[[-1.  0.  0.]\\n [ 1.  1. -1.]\\n [ 0.  0.  1.]]': array([nan,  0.,  0., nan, nan, nan,  0.,  0., nan]),\n",
       " '[[-1.  0.  0.]\\n [ 1.  1. -1.]\\n [ 0. -1.  1.]]': array([nan,  0.,  0., nan, nan, nan,  0., nan, nan]),\n",
       " '[[-1.  0.  0.]\\n [ 1.  1. -1.]\\n [ 1. -1.  1.]]': array([nan,  0.,  0., nan, nan, nan, nan, nan, nan]),\n",
       " '[[-1.  0. -1.]\\n [ 1.  1. -1.]\\n [ 1. -1.  1.]]': array([nan,  0., nan, nan, nan, nan, nan, nan, nan]),\n",
       " '[[-1.  1. -1.]\\n [ 1.  1. -1.]\\n [ 1. -1.  1.]]': array([nan, nan, nan, nan, nan, nan, nan, nan, nan]),\n",
       " '[[0. 0. 0.]\\n [0. 0. 0.]\\n [0. 1. 0.]]': array([ 0.,  0.,  0.,  0.,  0.,  0.,  0., nan,  0.]),\n",
       " '[[ 0.  0.  0.]\\n [-1.  0.  0.]\\n [ 0.  1.  0.]]': array([ 0.,  0.,  0., nan,  0.,  0.,  0., nan,  0.]),\n",
       " '[[ 1.  0.  0.]\\n [-1.  0.  0.]\\n [ 0.  1.  0.]]': array([nan,  0.,  0., nan,  0.,  0.,  0., nan,  0.]),\n",
       " '[[ 1.  0.  0.]\\n [-1.  0.  0.]\\n [ 0.  1. -1.]]': array([nan,  0.,  0., nan,  0.,  0.,  0., nan, nan]),\n",
       " '[[ 1.  1.  0.]\\n [-1.  0.  0.]\\n [ 0.  1. -1.]]': array([nan, nan,  0., nan,  0.,  0.,  0., nan, nan]),\n",
       " '[[ 1.  1.  0.]\\n [-1.  0.  0.]\\n [-1.  1. -1.]]': array([nan, nan,  0., nan,  0.,  0., nan, nan, nan]),\n",
       " '[[ 1.  1.  0.]\\n [-1.  0.  1.]\\n [-1.  1. -1.]]': array([nan, nan,  0., nan,  0., nan, nan, nan, nan]),\n",
       " '[[ 1.  1.  0.]\\n [-1. -1.  1.]\\n [-1.  1. -1.]]': array([nan, nan,  0., nan, nan, nan, nan, nan, nan]),\n",
       " '[[ 1.  1.  1.]\\n [-1. -1.  1.]\\n [-1.  1. -1.]]': array([nan, nan, nan, nan, nan, nan, nan, nan, nan]),\n",
       " '[[0. 0. 0.]\\n [1. 0. 0.]\\n [0. 0. 0.]]': array([ 0.,  0.,  0., nan,  0.,  0.,  0.,  0.,  0.]),\n",
       " '[[ 0.  0.  0.]\\n [ 1.  0.  0.]\\n [ 0. -1.  0.]]': array([ 0.,  0.,  0., nan,  0.,  0.,  0., nan,  0.]),\n",
       " '[[ 1.  0.  0.]\\n [ 1.  0.  0.]\\n [ 0. -1.  0.]]': array([nan,  0.,  0., nan,  0.,  0.,  0., nan,  0.]),\n",
       " '[[ 1.  0.  0.]\\n [ 1. -1.  0.]\\n [ 0. -1.  0.]]': array([nan,  0.,  0., nan, nan,  0.,  0., nan,  0.]),\n",
       " '[[ 1.  0.  0.]\\n [ 1. -1.  0.]\\n [ 0. -1.  1.]]': array([nan,  0.,  0., nan, nan,  0.,  0., nan, nan]),\n",
       " '[[ 1.  0. -1.]\\n [ 1. -1.  0.]\\n [ 0. -1.  1.]]': array([nan,  0., nan, nan, nan,  0.,  0., nan, nan]),\n",
       " '[[ 1.  1. -1.]\\n [ 1. -1.  0.]\\n [ 0. -1.  1.]]': array([nan, nan, nan, nan, nan,  0.,  0., nan, nan]),\n",
       " '[[ 1.  1. -1.]\\n [ 1. -1.  0.]\\n [-1. -1.  1.]]': array([nan, nan, nan, nan, nan,  0., nan, nan, nan]),\n",
       " '[[0. 0. 0.]\\n [0. 0. 1.]\\n [0. 0. 0.]]': array([ 0.,  0.,  0.,  0.,  0., nan,  0.,  0.,  0.]),\n",
       " '[[ 0.  0.  0.]\\n [ 0.  0.  1.]\\n [ 0.  0. -1.]]': array([ 0.,  0.,  0.,  0.,  0., nan,  0.,  0., nan]),\n",
       " '[[ 0.  0.  1.]\\n [ 0.  0.  1.]\\n [ 0.  0. -1.]]': array([ 0.,  0., nan,  0.,  0., nan,  0.,  0., nan]),\n",
       " '[[ 0.  0.  1.]\\n [ 0.  0.  1.]\\n [-1.  0. -1.]]': array([ 0.,  0., nan,  0.,  0., nan, nan,  0., nan]),\n",
       " '[[ 0.  0.  1.]\\n [ 0.  1.  1.]\\n [-1.  0. -1.]]': array([ 0.,  0., nan,  0., nan, nan, nan,  0., nan]),\n",
       " '[[ 0. -1.  1.]\\n [ 0.  1.  1.]\\n [-1.  0. -1.]]': array([ 0., nan, nan,  0., nan, nan, nan,  0., nan]),\n",
       " '[[ 1. -1.  1.]\\n [ 0.  1.  1.]\\n [-1.  0. -1.]]': array([nan, nan, nan,  0., nan, nan, nan,  0., nan]),\n",
       " '[[ 1. -1.  1.]\\n [-1.  1.  1.]\\n [-1.  0. -1.]]': array([nan, nan, nan, nan, nan, nan, nan,  0., nan]),\n",
       " '[[ 1. -1.  1.]\\n [-1.  1.  1.]\\n [-1.  1. -1.]]': array([nan, nan, nan, nan, nan, nan, nan, nan, nan]),\n",
       " '[[ 0.  0.  0.]\\n [ 0. -1.  1.]\\n [ 0.  0.  0.]]': array([ 0.,  0.,  0.,  0., nan, nan,  0.,  0.,  0.]),\n",
       " '[[ 0.  0.  0.]\\n [ 0. -1.  1.]\\n [ 1.  0.  0.]]': array([ 0.,  0.,  0.,  0., nan, nan, nan,  0.,  0.]),\n",
       " '[[ 0. -1.  0.]\\n [ 0. -1.  1.]\\n [ 1.  0.  0.]]': array([ 0., nan,  0.,  0., nan, nan, nan,  0.,  0.]),\n",
       " '[[ 1. -1.  0.]\\n [ 0. -1.  1.]\\n [ 1.  0.  0.]]': array([nan, nan,  0.,  0., nan, nan, nan,  0.,  0.]),\n",
       " '[[ 1. -1. -1.]\\n [ 0. -1.  1.]\\n [ 1.  0.  0.]]': array([nan, nan, nan,  0., nan, nan, nan,  0.,  0.]),\n",
       " '[[ 1. -1. -1.]\\n [ 1. -1.  1.]\\n [ 1.  0.  0.]]': array([nan, nan, nan, nan, nan, nan, nan,  0.,  0.]),\n",
       " '[[0. 0. 0.]\\n [0. 0. 0.]\\n [1. 0. 0.]]': array([ 0.,  0.,  0.,  0.,  0.,  0., nan,  0.,  0.]),\n",
       " '[[-1.  0.  0.]\\n [ 0.  0.  0.]\\n [ 1.  0.  0.]]': array([nan,  0.,  0.,  0.,  0.,  0., nan,  0.,  0.]),\n",
       " '[[-1.  0.  0.]\\n [ 0.  0.  0.]\\n [ 1.  1.  0.]]': array([nan,  0.,  0.,  0.,  0.,  0., nan, nan,  0.]),\n",
       " '[[-1.  0.  0.]\\n [-1.  0.  0.]\\n [ 1.  1.  0.]]': array([nan,  0.,  0., nan,  0.,  0., nan, nan,  0.]),\n",
       " '[[-1.  0.  0.]\\n [-1.  0.  0.]\\n [ 1.  1.  1.]]': array([nan,  0.,  0., nan,  0.,  0., nan, nan, nan]),\n",
       " '[[ 0.  0.  0.]\\n [-1.  0.  0.]\\n [ 1.  0.  0.]]': array([ 0.,  0.,  0., nan,  0.,  0., nan,  0.,  0.]),\n",
       " '[[ 0.  0.  0.]\\n [-1.  0.  0.]\\n [ 1.  1.  0.]]': array([ 0.,  0.,  0., nan,  0.,  0., nan, nan,  0.]),\n",
       " '[[ 0. -1.  0.]\\n [-1.  0.  0.]\\n [ 1.  1.  0.]]': array([ 0., nan,  0., nan,  0.,  0., nan, nan,  0.]),\n",
       " '[[ 1. -1.  0.]\\n [-1.  0.  0.]\\n [ 1.  1.  0.]]': array([nan, nan,  0., nan,  0.,  0., nan, nan,  0.]),\n",
       " '[[ 1. -1. -1.]\\n [-1.  0.  0.]\\n [ 1.  1.  0.]]': array([nan, nan, nan, nan,  0.,  0., nan, nan,  0.]),\n",
       " '[[ 1. -1. -1.]\\n [-1.  1.  0.]\\n [ 1.  1.  0.]]': array([nan, nan, nan, nan, nan,  0., nan, nan,  0.]),\n",
       " '[[ 1. -1. -1.]\\n [-1.  1.  0.]\\n [ 1.  1. -1.]]': array([nan, nan, nan, nan, nan,  0., nan, nan, nan]),\n",
       " '[[ 1. -1. -1.]\\n [-1.  1.  1.]\\n [ 1.  1. -1.]]': array([nan, nan, nan, nan, nan, nan, nan, nan, nan]),\n",
       " '[[0. 0. 0.]\\n [0. 1. 0.]\\n [0. 0. 0.]]': array([ 0.,  0.,  0.,  0., nan,  0.,  0.,  0.,  0.]),\n",
       " '[[ 0.  0.  0.]\\n [ 0.  1.  0.]\\n [-1.  0.  0.]]': array([ 0.,  0.,  0.,  0., nan,  0., nan,  0.,  0.]),\n",
       " '[[ 1.  0.  0.]\\n [ 0.  1.  0.]\\n [-1.  0.  0.]]': array([nan,  0.,  0.,  0., nan,  0., nan,  0.,  0.]),\n",
       " '[[ 1.  0.  0.]\\n [-1.  1.  0.]\\n [-1.  0.  0.]]': array([nan,  0.,  0., nan, nan,  0., nan,  0.,  0.]),\n",
       " '[[ 1.  0.  0.]\\n [-1.  1.  0.]\\n [-1.  1.  0.]]': array([nan,  0.,  0., nan, nan,  0., nan, nan,  0.]),\n",
       " '[[ 1. -1.  0.]\\n [-1.  1.  0.]\\n [-1.  1.  0.]]': array([nan, nan,  0., nan, nan,  0., nan, nan,  0.]),\n",
       " '[[ 1. -1.  1.]\\n [-1.  1.  0.]\\n [-1.  1.  0.]]': array([nan, nan, nan, nan, nan,  0., nan, nan,  0.]),\n",
       " '[[ 1. -1.  1.]\\n [-1.  1.  0.]\\n [-1.  1. -1.]]': array([nan, nan, nan, nan, nan,  0., nan, nan, nan]),\n",
       " '[[ 0.  0. -1.]\\n [ 0.  0.  0.]\\n [ 0.  1.  0.]]': array([ 0.,  0., nan,  0.,  0.,  0.,  0., nan,  0.]),\n",
       " '[[ 0.  0. -1.]\\n [ 0.  0.  0.]\\n [ 0.  1.  1.]]': array([ 0.,  0., nan,  0.,  0.,  0.,  0., nan, nan]),\n",
       " '[[ 0.  0. -1.]\\n [ 0. -1.  0.]\\n [ 0.  1.  1.]]': array([ 0.,  0., nan,  0., nan,  0.,  0., nan, nan]),\n",
       " '[[ 1.  0. -1.]\\n [ 0. -1.  0.]\\n [ 0.  1.  1.]]': array([nan,  0., nan,  0., nan,  0.,  0., nan, nan]),\n",
       " '[[ 1.  0. -1.]\\n [-1. -1.  0.]\\n [ 0.  1.  1.]]': array([nan,  0., nan, nan, nan,  0.,  0., nan, nan]),\n",
       " '[[ 1.  1. -1.]\\n [-1. -1.  0.]\\n [ 0.  1.  1.]]': array([nan, nan, nan, nan, nan,  0.,  0., nan, nan]),\n",
       " '[[ 1.  1. -1.]\\n [-1. -1.  0.]\\n [-1.  1.  1.]]': array([nan, nan, nan, nan, nan,  0., nan, nan, nan]),\n",
       " '[[ 0.  0.  0.]\\n [ 0.  0.  0.]\\n [ 1. -1.  0.]]': array([ 0.,  0.,  0.,  0.,  0.,  0., nan, nan,  0.]),\n",
       " '[[ 0.  0.  0.]\\n [ 1.  0.  0.]\\n [ 1. -1.  0.]]': array([ 0.,  0.,  0., nan,  0.,  0., nan, nan,  0.]),\n",
       " '[[ 0.  0. -1.]\\n [ 1.  0.  0.]\\n [ 1. -1.  0.]]': array([ 0.,  0., nan, nan,  0.,  0., nan, nan,  0.]),\n",
       " '[[ 0.  0. -1.]\\n [ 1.  0.  0.]\\n [ 1. -1.  1.]]': array([ 0.,  0., nan, nan,  0.,  0., nan, nan, nan]),\n",
       " '[[ 0. -1. -1.]\\n [ 1.  0.  0.]\\n [ 1. -1.  1.]]': array([ 0., nan, nan, nan,  0.,  0., nan, nan, nan]),\n",
       " '[[ 1. -1. -1.]\\n [ 1.  0.  0.]\\n [ 1. -1.  1.]]': array([nan, nan, nan, nan,  0.,  0., nan, nan, nan]),\n",
       " '[[0. 0. 1.]\\n [0. 0. 0.]\\n [0. 0. 0.]]': array([ 0.,  0., nan,  0.,  0.,  0.,  0.,  0.,  0.]),\n",
       " '[[-1.  0.  1.]\\n [ 0.  0.  0.]\\n [ 0.  0.  0.]]': array([nan,  0., nan,  0.,  0.,  0.,  0.,  0.,  0.]),\n",
       " '[[-1.  0.  1.]\\n [ 0.  0.  0.]\\n [ 1.  0.  0.]]': array([nan,  0., nan,  0.,  0.,  0., nan,  0.,  0.]),\n",
       " '[[-1.  0.  1.]\\n [ 0.  0.  0.]\\n [ 1.  0. -1.]]': array([nan,  0., nan,  0.,  0.,  0., nan,  0., nan]),\n",
       " '[[-1.  0.  1.]\\n [ 0.  1.  0.]\\n [ 1.  0. -1.]]': array([nan,  0., nan,  0., nan,  0., nan,  0., nan]),\n",
       " '[[ 0. -1.  0.]\\n [ 0.  0.  0.]\\n [ 1.  0.  0.]]': array([ 0., nan,  0.,  0.,  0.,  0., nan,  0.,  0.]),\n",
       " '[[ 0. -1.  0.]\\n [ 1.  0.  0.]\\n [ 1.  0.  0.]]': array([ 0., nan,  0., nan,  0.,  0., nan,  0.,  0.]),\n",
       " '[[ 0. -1.  0.]\\n [ 1.  0.  0.]\\n [ 1. -1.  0.]]': array([ 0., nan,  0., nan,  0.,  0., nan, nan,  0.]),\n",
       " '[[ 1. -1.  0.]\\n [ 1.  0.  0.]\\n [ 1. -1.  0.]]': array([nan, nan,  0., nan,  0.,  0., nan, nan,  0.]),\n",
       " '[[-1. -1.  0.]\\n [ 1.  0.  0.]\\n [ 1.  0.  0.]]': array([nan, nan,  0., nan,  0.,  0., nan,  0.,  0.]),\n",
       " '[[-1. -1.  0.]\\n [ 1.  0.  0.]\\n [ 1.  0.  1.]]': array([nan, nan,  0., nan,  0.,  0., nan,  0., nan]),\n",
       " '[[-1. -1.  0.]\\n [ 1.  0. -1.]\\n [ 1.  0.  1.]]': array([nan, nan,  0., nan,  0., nan, nan,  0., nan]),\n",
       " '[[-1. -1.  0.]\\n [ 1.  1. -1.]\\n [ 1.  0.  1.]]': array([nan, nan,  0., nan, nan, nan, nan,  0., nan]),\n",
       " '[[-1. -1.  0.]\\n [ 1.  1. -1.]\\n [ 1. -1.  1.]]': array([nan, nan,  0., nan, nan, nan, nan, nan, nan]),\n",
       " '[[-1. -1.  1.]\\n [ 1.  1. -1.]\\n [ 1. -1.  1.]]': array([nan, nan, nan, nan, nan, nan, nan, nan, nan]),\n",
       " '[[ 0.  0. -1.]\\n [ 0.  0.  0.]\\n [ 1.  0.  0.]]': array([ 0.,  0., nan,  0.,  0.,  0., nan,  0.,  0.]),\n",
       " '[[ 0.  0. -1.]\\n [ 0.  0.  0.]\\n [ 1.  1.  0.]]': array([ 0.,  0., nan,  0.,  0.,  0., nan, nan,  0.]),\n",
       " '[[ 0.  0. -1.]\\n [ 0.  0.  0.]\\n [ 1.  1. -1.]]': array([ 0.,  0., nan,  0.,  0.,  0., nan, nan, nan]),\n",
       " '[[ 0.  0. -1.]\\n [ 1.  0.  0.]\\n [ 1.  1. -1.]]': array([ 0.,  0., nan, nan,  0.,  0., nan, nan, nan]),\n",
       " '[[ 0.  0. -1.]\\n [ 1.  0. -1.]\\n [ 1.  1. -1.]]': array([ 0.,  0., nan, nan,  0., nan, nan, nan, nan]),\n",
       " '[[ 0.  0.  0.]\\n [ 1.  0.  0.]\\n [-1.  0.  0.]]': array([ 0.,  0.,  0., nan,  0.,  0., nan,  0.,  0.]),\n",
       " '[[ 1.  0.  0.]\\n [ 1.  0.  0.]\\n [-1.  0.  0.]]': array([nan,  0.,  0., nan,  0.,  0., nan,  0.,  0.]),\n",
       " '[[ 1.  0.  0.]\\n [ 1.  0. -1.]\\n [-1.  0.  0.]]': array([nan,  0.,  0., nan,  0., nan, nan,  0.,  0.]),\n",
       " '[[ 1.  0.  0.]\\n [ 1.  0. -1.]\\n [-1.  1.  0.]]': array([nan,  0.,  0., nan,  0., nan, nan, nan,  0.]),\n",
       " '[[ 1. -1.  0.]\\n [ 1.  0. -1.]\\n [-1.  1.  0.]]': array([nan, nan,  0., nan,  0., nan, nan, nan,  0.]),\n",
       " '[[ 1. -1.  0.]\\n [ 1.  1. -1.]\\n [-1.  1.  0.]]': array([nan, nan,  0., nan, nan, nan, nan, nan,  0.]),\n",
       " '[[ 1. -1. -1.]\\n [ 1.  1. -1.]\\n [-1.  1.  0.]]': array([nan, nan, nan, nan, nan, nan, nan, nan,  0.]),\n",
       " '[[ 1. -1. -1.]\\n [ 1.  1. -1.]\\n [-1.  1.  1.]]': array([nan, nan, nan, nan, nan, nan, nan, nan, nan]),\n",
       " '[[ 0.  0.  1.]\\n [ 0. -1.  0.]\\n [ 0.  0.  0.]]': array([ 0.,  0., nan,  0., nan,  0.,  0.,  0.,  0.]),\n",
       " '[[ 0.  0.  1.]\\n [ 1. -1.  0.]\\n [ 0.  0.  0.]]': array([ 0.,  0., nan, nan, nan,  0.,  0.,  0.,  0.]),\n",
       " '[[-1.  0.  1.]\\n [ 1. -1.  0.]\\n [ 0.  0.  0.]]': array([nan,  0., nan, nan, nan,  0.,  0.,  0.,  0.]),\n",
       " '[[-1.  0.  1.]\\n [ 1. -1.  0.]\\n [ 0.  1.  0.]]': array([nan,  0., nan, nan, nan,  0.,  0., nan,  0.]),\n",
       " '[[-1.  0.  1.]\\n [ 1. -1.  0.]\\n [ 0.  1. -1.]]': array([nan,  0., nan, nan, nan,  0.,  0., nan, nan]),\n",
       " '[[-1.  0.  1.]\\n [ 0.  0.  0.]\\n [ 0.  1.  0.]]': array([nan,  0., nan,  0.,  0.,  0.,  0., nan,  0.]),\n",
       " '[[-1.  0.  1.]\\n [ 0.  0.  0.]\\n [-1.  1.  0.]]': array([nan,  0., nan,  0.,  0.,  0., nan, nan,  0.]),\n",
       " '[[-1.  1.  1.]\\n [ 0.  0.  0.]\\n [-1.  1.  0.]]': array([nan, nan, nan,  0.,  0.,  0., nan, nan,  0.]),\n",
       " '[[-1.  1.  1.]\\n [-1.  0.  0.]\\n [-1.  1.  0.]]': array([nan, nan, nan, nan,  0.,  0., nan, nan,  0.]),\n",
       " '[[ 0. -1.  0.]\\n [ 0.  0.  0.]\\n [ 0.  1.  0.]]': array([ 0., nan,  0.,  0.,  0.,  0.,  0., nan,  0.]),\n",
       " '[[ 0. -1.  0.]\\n [ 1.  0.  0.]\\n [ 0.  1.  0.]]': array([ 0., nan,  0., nan,  0.,  0.,  0., nan,  0.]),\n",
       " '[[ 0. -1.  0.]\\n [ 1. -1.  0.]\\n [ 0.  1.  0.]]': array([ 0., nan,  0., nan, nan,  0.,  0., nan,  0.]),\n",
       " '[[ 0. -1.  0.]\\n [ 1. -1.  0.]\\n [ 0.  1.  1.]]': array([ 0., nan,  0., nan, nan,  0.,  0., nan, nan]),\n",
       " '[[-1. -1.  0.]\\n [ 1. -1.  0.]\\n [ 0.  1.  1.]]': array([nan, nan,  0., nan, nan,  0.,  0., nan, nan]),\n",
       " '[[-1. -1.  0.]\\n [ 1. -1.  0.]\\n [ 1.  1.  1.]]': array([nan, nan,  0., nan, nan,  0., nan, nan, nan]),\n",
       " '[[ 0.  0. -1.]\\n [ 0.  0.  1.]\\n [ 1.  0.  0.]]': array([ 0.,  0., nan,  0.,  0., nan, nan,  0.,  0.]),\n",
       " '[[ 0.  0. -1.]\\n [ 0. -1.  1.]\\n [ 1.  0.  0.]]': array([ 0.,  0., nan,  0., nan, nan, nan,  0.,  0.]),\n",
       " '[[ 0.  0. -1.]\\n [ 0. -1.  1.]\\n [ 1.  1.  0.]]': array([ 0.,  0., nan,  0., nan, nan, nan, nan,  0.]),\n",
       " '[[ 0. -1. -1.]\\n [ 0. -1.  1.]\\n [ 1.  1.  0.]]': array([ 0., nan, nan,  0., nan, nan, nan, nan,  0.]),\n",
       " '[[ 1. -1. -1.]\\n [ 0. -1.  1.]\\n [ 1.  1.  0.]]': array([nan, nan, nan,  0., nan, nan, nan, nan,  0.]),\n",
       " '[[ 1. -1. -1.]\\n [ 0. -1.  1.]\\n [ 1.  1. -1.]]': array([nan, nan, nan,  0., nan, nan, nan, nan, nan]),\n",
       " '[[ 1. -1. -1.]\\n [ 1. -1.  1.]\\n [ 1.  1. -1.]]': array([nan, nan, nan, nan, nan, nan, nan, nan, nan]),\n",
       " '[[ 0.  0.  0.]\\n [ 1.  0. -1.]\\n [ 0.  0.  0.]]': array([ 0.,  0.,  0., nan,  0., nan,  0.,  0.,  0.]),\n",
       " '[[ 0.  0.  1.]\\n [ 1.  0. -1.]\\n [ 0.  0.  0.]]': array([ 0.,  0., nan, nan,  0., nan,  0.,  0.,  0.]),\n",
       " '[[ 0.  0.  1.]\\n [ 1.  0. -1.]\\n [ 0. -1.  0.]]': array([ 0.,  0., nan, nan,  0., nan,  0., nan,  0.]),\n",
       " '[[ 0.  1.  1.]\\n [ 1.  0. -1.]\\n [ 0. -1.  0.]]': array([ 0., nan, nan, nan,  0., nan,  0., nan,  0.]),\n",
       " '[[ 0.  1.  1.]\\n [ 1.  0. -1.]\\n [ 0. -1. -1.]]': array([ 0., nan, nan, nan,  0., nan,  0., nan, nan]),\n",
       " '[[ 0.  1.  1.]\\n [ 1.  1. -1.]\\n [ 0. -1. -1.]]': array([ 0., nan, nan, nan, nan, nan,  0., nan, nan]),\n",
       " '[[-1.  1.  1.]\\n [ 1.  1. -1.]\\n [ 0. -1. -1.]]': array([nan, nan, nan, nan, nan, nan,  0., nan, nan]),\n",
       " '[[-1.  1.  1.]\\n [ 1.  1. -1.]\\n [ 1. -1. -1.]]': array([nan, nan, nan, nan, nan, nan, nan, nan, nan]),\n",
       " '[[-1.  0.  0.]\\n [ 1.  0.  0.]\\n [ 1.  0.  0.]]': array([nan,  0.,  0., nan,  0.,  0., nan,  0.,  0.]),\n",
       " '[[-1.  0.  0.]\\n [ 1.  0.  0.]\\n [ 1.  0. -1.]]': array([nan,  0.,  0., nan,  0.,  0., nan,  0., nan]),\n",
       " '[[-1.  0.  0.]\\n [ 1.  1.  0.]\\n [ 1.  0. -1.]]': array([nan,  0.,  0., nan, nan,  0., nan,  0., nan]),\n",
       " '[[-1.  0.  0.]\\n [ 1.  1. -1.]\\n [ 1.  0. -1.]]': array([nan,  0.,  0., nan, nan, nan, nan,  0., nan]),\n",
       " '[[-1.  0.  0.]\\n [ 1.  1. -1.]\\n [ 1.  1. -1.]]': array([nan,  0.,  0., nan, nan, nan, nan, nan, nan]),\n",
       " '[[-1.  0. -1.]\\n [ 1.  1. -1.]\\n [ 1.  1. -1.]]': array([nan,  0., nan, nan, nan, nan, nan, nan, nan]),\n",
       " '[[ 0.  0.  0.]\\n [ 1.  0.  1.]\\n [ 0.  0. -1.]]': array([ 0.,  0.,  0., nan,  0., nan,  0.,  0., nan]),\n",
       " '[[ 0.  0. -1.]\\n [ 1.  0.  1.]\\n [ 0.  0. -1.]]': array([ 0.,  0., nan, nan,  0., nan,  0.,  0., nan]),\n",
       " '[[ 0.  1. -1.]\\n [ 1.  0.  1.]\\n [ 0.  0. -1.]]': array([ 0., nan, nan, nan,  0., nan,  0.,  0., nan]),\n",
       " '[[ 0.  1. -1.]\\n [ 1.  0.  1.]\\n [-1.  0. -1.]]': array([ 0., nan, nan, nan,  0., nan, nan,  0., nan]),\n",
       " '[[ 0.  1. -1.]\\n [ 1.  0.  1.]\\n [-1.  1. -1.]]': array([ 0., nan, nan, nan,  0., nan, nan, nan, nan]),\n",
       " '[[ 0.  1. -1.]\\n [ 1. -1.  1.]\\n [-1.  1. -1.]]': array([ 0., nan, nan, nan, nan, nan, nan, nan, nan]),\n",
       " '[[ 0. -1.  0.]\\n [ 0.  0.  0.]\\n [ 1.  1.  0.]]': array([ 0., nan,  0.,  0.,  0.,  0., nan, nan,  0.]),\n",
       " '[[ 0. -1.  0.]\\n [ 0.  0.  0.]\\n [ 1.  1. -1.]]': array([ 0., nan,  0.,  0.,  0.,  0., nan, nan, nan]),\n",
       " '[[ 1. -1.  0.]\\n [ 0.  0.  0.]\\n [ 1.  1. -1.]]': array([nan, nan,  0.,  0.,  0.,  0., nan, nan, nan]),\n",
       " '[[ 1. -1.  0.]\\n [-1.  0.  0.]\\n [ 1.  1. -1.]]': array([nan, nan,  0., nan,  0.,  0., nan, nan, nan]),\n",
       " '[[ 1. -1.  0.]\\n [-1.  0.  1.]\\n [ 1.  1. -1.]]': array([nan, nan,  0., nan,  0., nan, nan, nan, nan]),\n",
       " '[[ 1. -1. -1.]\\n [-1.  0.  1.]\\n [ 1.  1. -1.]]': array([nan, nan, nan, nan,  0., nan, nan, nan, nan]),\n",
       " '[[ 1.  0.  0.]\\n [ 0. -1.  0.]\\n [ 0.  0.  0.]]': array([nan,  0.,  0.,  0., nan,  0.,  0.,  0.,  0.]),\n",
       " '[[ 1.  0.  0.]\\n [ 0. -1.  1.]\\n [ 0.  0.  0.]]': array([nan,  0.,  0.,  0., nan, nan,  0.,  0.,  0.]),\n",
       " '[[ 1.  0.  0.]\\n [ 0. -1.  1.]\\n [-1.  0.  0.]]': array([nan,  0.,  0.,  0., nan, nan, nan,  0.,  0.]),\n",
       " '[[ 1.  1.  0.]\\n [ 0. -1.  1.]\\n [-1.  0.  0.]]': array([nan, nan,  0.,  0., nan, nan, nan,  0.,  0.]),\n",
       " '[[ 1.  1.  0.]\\n [ 0. -1.  1.]\\n [-1.  0. -1.]]': array([nan, nan,  0.,  0., nan, nan, nan,  0., nan]),\n",
       " '[[ 1.  1.  0.]\\n [ 1. -1.  1.]\\n [-1.  0. -1.]]': array([nan, nan,  0., nan, nan, nan, nan,  0., nan]),\n",
       " '[[ 1.  1. -1.]\\n [ 1. -1.  1.]\\n [-1.  0. -1.]]': array([nan, nan, nan, nan, nan, nan, nan,  0., nan]),\n",
       " '[[ 0.  1.  0.]\\n [-1.  0.  0.]\\n [ 0.  0.  0.]]': array([ 0., nan,  0., nan,  0.,  0.,  0.,  0.,  0.]),\n",
       " '[[ 0.  1.  0.]\\n [-1.  0.  0.]\\n [ 0.  0.  1.]]': array([ 0., nan,  0., nan,  0.,  0.,  0.,  0., nan]),\n",
       " '[[ 0.  1.  0.]\\n [-1. -1.  0.]\\n [ 0.  0.  1.]]': array([ 0., nan,  0., nan, nan,  0.,  0.,  0., nan]),\n",
       " '[[ 0.  1.  0.]\\n [-1. -1.  0.]\\n [ 1.  0.  1.]]': array([ 0., nan,  0., nan, nan,  0., nan,  0., nan]),\n",
       " '[[ 0.  1.  0.]\\n [-1. -1. -1.]\\n [ 1.  0.  1.]]': array([ 0., nan,  0., nan, nan, nan, nan,  0., nan]),\n",
       " '[[-1.  1.  0.]\\n [ 0.  0.  0.]\\n [ 0.  0.  0.]]': array([nan, nan,  0.,  0.,  0.,  0.,  0.,  0.,  0.]),\n",
       " '[[-1.  1.  1.]\\n [ 0.  0.  0.]\\n [ 0.  0.  0.]]': array([nan, nan, nan,  0.,  0.,  0.,  0.,  0.,  0.]),\n",
       " '[[-1.  1.  1.]\\n [ 0.  0. -1.]\\n [ 0.  0.  0.]]': array([nan, nan, nan,  0.,  0., nan,  0.,  0.,  0.]),\n",
       " '[[-1.  1.  1.]\\n [ 0.  0. -1.]\\n [ 0.  1.  0.]]': array([nan, nan, nan,  0.,  0., nan,  0., nan,  0.]),\n",
       " '[[-1.  1.  1.]\\n [-1.  0. -1.]\\n [ 0.  1.  0.]]': array([nan, nan, nan, nan,  0., nan,  0., nan,  0.]),\n",
       " '[[-1.  1.  1.]\\n [-1.  0. -1.]\\n [ 0.  1.  1.]]': array([nan, nan, nan, nan,  0., nan,  0., nan, nan]),\n",
       " '[[-1.  1.  1.]\\n [-1. -1. -1.]\\n [ 0.  1.  1.]]': array([nan, nan, nan, nan, nan, nan,  0., nan, nan]),\n",
       " '[[ 0. -1.  0.]\\n [ 1.  0.  0.]\\n [ 0.  0.  0.]]': array([ 0., nan,  0., nan,  0.,  0.,  0.,  0.,  0.]),\n",
       " '[[ 0. -1.  1.]\\n [ 1.  0.  0.]\\n [ 0.  0.  0.]]': array([ 0., nan, nan, nan,  0.,  0.,  0.,  0.,  0.]),\n",
       " '[[ 0. -1.  1.]\\n [ 1.  0.  0.]\\n [ 0. -1.  0.]]': array([ 0., nan, nan, nan,  0.,  0.,  0., nan,  0.]),\n",
       " '[[ 1. -1.  1.]\\n [ 1.  0.  0.]\\n [ 0. -1.  0.]]': array([nan, nan, nan, nan,  0.,  0.,  0., nan,  0.]),\n",
       " '[[ 1. -1.  1.]\\n [ 1.  0.  0.]\\n [ 0. -1. -1.]]': array([nan, nan, nan, nan,  0.,  0.,  0., nan, nan]),\n",
       " '[[ 1. -1.  1.]\\n [ 1.  1.  0.]\\n [ 0. -1. -1.]]': array([nan, nan, nan, nan, nan,  0.,  0., nan, nan]),\n",
       " '[[ 1. -1.  1.]\\n [ 1.  1.  0.]\\n [-1. -1. -1.]]': array([nan, nan, nan, nan, nan,  0., nan, nan, nan]),\n",
       " '[[ 0.  1.  0.]\\n [ 0.  0. -1.]\\n [ 0.  0.  0.]]': array([ 0., nan,  0.,  0.,  0., nan,  0.,  0.,  0.]),\n",
       " '[[ 0.  1.  0.]\\n [ 0.  0. -1.]\\n [ 0.  1.  0.]]': array([ 0., nan,  0.,  0.,  0., nan,  0., nan,  0.]),\n",
       " '[[-1.  1.  0.]\\n [ 0.  0. -1.]\\n [ 0.  1.  0.]]': array([nan, nan,  0.,  0.,  0., nan,  0., nan,  0.]),\n",
       " '[[-1.  1.  0.]\\n [ 0.  1. -1.]\\n [ 0.  1.  0.]]': array([nan, nan,  0.,  0., nan, nan,  0., nan,  0.]),\n",
       " '[[ 1.  0.  0.]\\n [ 0.  0.  0.]\\n [-1.  0.  0.]]': array([nan,  0.,  0.,  0.,  0.,  0., nan,  0.,  0.]),\n",
       " '[[ 1.  0. -1.]\\n [ 0.  1.  0.]\\n [-1.  0.  0.]]': array([nan,  0., nan,  0., nan,  0., nan,  0.,  0.]),\n",
       " '[[ 1.  0. -1.]\\n [ 0.  1.  0.]\\n [-1.  1.  0.]]': array([nan,  0., nan,  0., nan,  0., nan, nan,  0.]),\n",
       " '[[ 1.  0. -1.]\\n [ 0.  1.  0.]\\n [-1.  1. -1.]]': array([nan,  0., nan,  0., nan,  0., nan, nan, nan]),\n",
       " '[[ 1.  0. -1.]\\n [ 1.  1.  0.]\\n [-1.  1. -1.]]': array([nan,  0., nan, nan, nan,  0., nan, nan, nan]),\n",
       " '[[ 1. -1. -1.]\\n [ 1.  1.  0.]\\n [-1.  1. -1.]]': array([nan, nan, nan, nan, nan,  0., nan, nan, nan]),\n",
       " '[[ 1. -1. -1.]\\n [ 1.  1.  1.]\\n [-1.  1. -1.]]': array([nan, nan, nan, nan, nan, nan, nan, nan, nan]),\n",
       " '[[ 0.  0.  1.]\\n [ 0. -1.  0.]\\n [ 0.  1.  0.]]': array([ 0.,  0., nan,  0., nan,  0.,  0., nan,  0.]),\n",
       " '[[ 0.  0.  1.]\\n [-1. -1.  0.]\\n [ 0.  1.  0.]]': array([ 0.,  0., nan, nan, nan,  0.,  0., nan,  0.]),\n",
       " '[[ 0.  1.  1.]\\n [-1. -1.  0.]\\n [ 0.  1.  0.]]': array([ 0., nan, nan, nan, nan,  0.,  0., nan,  0.]),\n",
       " '[[ 0.  1.  1.]\\n [-1. -1.  0.]\\n [-1.  1.  0.]]': array([ 0., nan, nan, nan, nan,  0., nan, nan,  0.]),\n",
       " '[[ 1.  1.  1.]\\n [-1. -1.  0.]\\n [-1.  1.  0.]]': array([nan, nan, nan, nan, nan,  0., nan, nan,  0.]),\n",
       " '[[ 1. -1.  0.]\\n [ 0. -1.  1.]\\n [ 0.  0.  0.]]': array([nan, nan,  0.,  0., nan, nan,  0.,  0.,  0.]),\n",
       " '[[ 1. -1.  0.]\\n [ 0. -1.  1.]\\n [ 0.  1.  0.]]': array([nan, nan,  0.,  0., nan, nan,  0., nan,  0.]),\n",
       " '[[ 1. -1.  0.]\\n [ 0. -1.  1.]\\n [ 0.  1. -1.]]': array([nan, nan,  0.,  0., nan, nan,  0., nan, nan]),\n",
       " '[[ 1. -1.  0.]\\n [ 1. -1.  1.]\\n [ 0.  1. -1.]]': array([nan, nan,  0., nan, nan, nan,  0., nan, nan]),\n",
       " '[[ 1. -1. -1.]\\n [ 1. -1.  1.]\\n [ 0.  1. -1.]]': array([nan, nan, nan, nan, nan, nan,  0., nan, nan]),\n",
       " '[[ 0.  0.  0.]\\n [-1.  0.  1.]\\n [ 0.  0.  0.]]': array([ 0.,  0.,  0., nan,  0., nan,  0.,  0.,  0.]),\n",
       " '[[ 1.  0.  0.]\\n [-1.  0.  1.]\\n [ 0.  0.  0.]]': array([nan,  0.,  0., nan,  0., nan,  0.,  0.,  0.]),\n",
       " '[[ 1.  0.  0.]\\n [-1.  0.  1.]\\n [ 0. -1.  0.]]': array([nan,  0.,  0., nan,  0., nan,  0., nan,  0.]),\n",
       " '[[ 1.  0.  0.]\\n [-1.  0.  1.]\\n [ 1. -1.  0.]]': array([nan,  0.,  0., nan,  0., nan, nan, nan,  0.]),\n",
       " '[[ 1.  0. -1.]\\n [-1.  0.  1.]\\n [ 1. -1.  0.]]': array([nan,  0., nan, nan,  0., nan, nan, nan,  0.]),\n",
       " '[[ 1.  0. -1.]\\n [-1.  1.  1.]\\n [ 1. -1.  0.]]': array([nan,  0., nan, nan, nan, nan, nan, nan,  0.]),\n",
       " '[[ 1.  0. -1.]\\n [-1.  1.  1.]\\n [ 1. -1. -1.]]': array([nan,  0., nan, nan, nan, nan, nan, nan, nan]),\n",
       " '[[ 1.  1. -1.]\\n [-1.  1.  1.]\\n [ 1. -1. -1.]]': array([nan, nan, nan, nan, nan, nan, nan, nan, nan]),\n",
       " '[[ 0.  0.  0.]\\n [ 0.  0.  0.]\\n [ 0.  1. -1.]]': array([ 0.,  0.,  0.,  0.,  0.,  0.,  0., nan, nan]),\n",
       " '[[ 0.  0.  0.]\\n [ 1.  0.  0.]\\n [ 0.  1. -1.]]': array([ 0.,  0.,  0., nan,  0.,  0.,  0., nan, nan]),\n",
       " '[[ 0.  0.  0.]\\n [ 1.  0.  0.]\\n [-1.  1. -1.]]': array([ 0.,  0.,  0., nan,  0.,  0., nan, nan, nan]),\n",
       " '[[ 1.  0.  0.]\\n [ 1.  0.  0.]\\n [-1.  1. -1.]]': array([nan,  0.,  0., nan,  0.,  0., nan, nan, nan]),\n",
       " '[[ 1.  0. -1.]\\n [ 1.  0.  0.]\\n [-1.  1. -1.]]': array([nan,  0., nan, nan,  0.,  0., nan, nan, nan]),\n",
       " '[[ 0.  0.  0.]\\n [ 1.  0.  1.]\\n [-1.  0.  0.]]': array([ 0.,  0.,  0., nan,  0., nan, nan,  0.,  0.]),\n",
       " '[[ 0. -1.  0.]\\n [ 1.  0.  1.]\\n [-1.  0.  0.]]': array([ 0., nan,  0., nan,  0., nan, nan,  0.,  0.]),\n",
       " '[[ 0. -1.  0.]\\n [ 1.  0.  1.]\\n [-1.  0.  1.]]': array([ 0., nan,  0., nan,  0., nan, nan,  0., nan]),\n",
       " '[[-1. -1.  0.]\\n [ 1.  0.  1.]\\n [-1.  0.  1.]]': array([nan, nan,  0., nan,  0., nan, nan,  0., nan]),\n",
       " '[[-1. -1.  0.]\\n [ 1.  0.  1.]\\n [-1.  1.  1.]]': array([nan, nan,  0., nan,  0., nan, nan, nan, nan]),\n",
       " '[[-1. -1.  0.]\\n [ 1. -1.  1.]\\n [-1.  1.  1.]]': array([nan, nan,  0., nan, nan, nan, nan, nan, nan]),\n",
       " '[[-1. -1.  1.]\\n [ 1. -1.  1.]\\n [-1.  1.  1.]]': array([nan, nan, nan, nan, nan, nan, nan, nan, nan]),\n",
       " '[[ 0.  0.  1.]\\n [ 0.  0. -1.]\\n [ 0.  0.  0.]]': array([ 0.,  0., nan,  0.,  0., nan,  0.,  0.,  0.]),\n",
       " '[[ 0.  0.  1.]\\n [ 0.  0. -1.]\\n [ 0.  1.  0.]]': array([ 0.,  0., nan,  0.,  0., nan,  0., nan,  0.]),\n",
       " '[[ 0.  0.  1.]\\n [ 0. -1. -1.]\\n [ 0.  1.  0.]]': array([ 0.,  0., nan,  0., nan, nan,  0., nan,  0.]),\n",
       " '[[ 0.  0.  1.]\\n [ 0. -1. -1.]\\n [ 1.  1.  0.]]': array([ 0.,  0., nan,  0., nan, nan, nan, nan,  0.]),\n",
       " '[[ 0.  0.  1.]\\n [-1. -1. -1.]\\n [ 1.  1.  0.]]': array([ 0.,  0., nan, nan, nan, nan, nan, nan,  0.]),\n",
       " '[[ 0. -1.  0.]\\n [ 0.  1.  0.]\\n [ 0.  0.  0.]]': array([ 0., nan,  0.,  0., nan,  0.,  0.,  0.,  0.]),\n",
       " '[[ 0. -1.  0.]\\n [ 0.  1.  0.]\\n [ 0.  1.  0.]]': array([ 0., nan,  0.,  0., nan,  0.,  0., nan,  0.]),\n",
       " '[[ 0. -1. -1.]\\n [ 0.  1.  0.]\\n [ 0.  1.  0.]]': array([ 0., nan, nan,  0., nan,  0.,  0., nan,  0.]),\n",
       " '[[ 0. -1. -1.]\\n [ 1.  1.  0.]\\n [ 0.  1.  0.]]': array([ 0., nan, nan, nan, nan,  0.,  0., nan,  0.]),\n",
       " '[[ 0. -1. -1.]\\n [ 1.  1.  0.]\\n [-1.  1.  0.]]': array([ 0., nan, nan, nan, nan,  0., nan, nan,  0.]),\n",
       " '[[ 0. -1. -1.]\\n [ 1.  1.  1.]\\n [-1.  1.  0.]]': array([ 0., nan, nan, nan, nan, nan, nan, nan,  0.]),\n",
       " '[[ 0. -1.  1.]\\n [ 0.  0.  0.]\\n [ 0.  0.  0.]]': array([ 0., nan, nan,  0.,  0.,  0.,  0.,  0.,  0.]),\n",
       " '[[ 0. -1.  1.]\\n [ 0.  1.  0.]\\n [ 0.  0.  0.]]': array([ 0., nan, nan,  0., nan,  0.,  0.,  0.,  0.]),\n",
       " '[[ 0. -1.  1.]\\n [ 0.  1.  0.]\\n [-1.  0.  0.]]': array([ 0., nan, nan,  0., nan,  0., nan,  0.,  0.]),\n",
       " '[[ 1. -1.  1.]\\n [ 0.  1.  0.]\\n [-1.  0.  0.]]': array([nan, nan, nan,  0., nan,  0., nan,  0.,  0.]),\n",
       " '[[ 1. -1.  1.]\\n [ 0.  1.  0.]\\n [-1.  0. -1.]]': array([nan, nan, nan,  0., nan,  0., nan,  0., nan]),\n",
       " '[[ 1. -1.  1.]\\n [ 1.  1.  0.]\\n [-1.  0. -1.]]': array([nan, nan, nan, nan, nan,  0., nan,  0., nan]),\n",
       " '[[ 1. -1.  1.]\\n [ 1.  1. -1.]\\n [-1.  0. -1.]]': array([nan, nan, nan, nan, nan, nan, nan,  0., nan]),\n",
       " '[[ 1. -1.  1.]\\n [ 1.  1. -1.]\\n [-1.  1. -1.]]': array([nan, nan, nan, nan, nan, nan, nan, nan, nan]),\n",
       " '[[ 1.  0.  0.]\\n [ 0.  0. -1.]\\n [ 0.  0.  0.]]': array([nan,  0.,  0.,  0.,  0., nan,  0.,  0.,  0.]),\n",
       " '[[ 1.  0.  0.]\\n [ 0.  1. -1.]\\n [ 0.  0.  0.]]': array([nan,  0.,  0.,  0., nan, nan,  0.,  0.,  0.]),\n",
       " '[[ 1. -1.  0.]\\n [ 0.  1. -1.]\\n [ 0.  0.  0.]]': array([nan, nan,  0.,  0., nan, nan,  0.,  0.,  0.]),\n",
       " '[[ 1. -1.  0.]\\n [ 1.  1. -1.]\\n [ 0.  0.  0.]]': array([nan, nan,  0., nan, nan, nan,  0.,  0.,  0.]),\n",
       " '[[ 1. -1.  0.]\\n [ 1.  1. -1.]\\n [ 0. -1.  0.]]': array([nan, nan,  0., nan, nan, nan,  0., nan,  0.]),\n",
       " '[[ 1. -1.  0.]\\n [ 1.  1. -1.]\\n [ 0. -1.  1.]]': array([nan, nan,  0., nan, nan, nan,  0., nan, nan]),\n",
       " '[[ 0.  0.  1.]\\n [ 0.  0.  0.]\\n [ 0.  0. -1.]]': array([ 0.,  0., nan,  0.,  0.,  0.,  0.,  0., nan]),\n",
       " '[[ 0.  0.  1.]\\n [ 1.  0.  0.]\\n [ 0.  0. -1.]]': array([ 0.,  0., nan, nan,  0.,  0.,  0.,  0., nan]),\n",
       " '[[ 0.  0.  1.]\\n [ 1.  0.  0.]\\n [ 0. -1. -1.]]': array([ 0.,  0., nan, nan,  0.,  0.,  0., nan, nan]),\n",
       " '[[ 0.  0.  1.]\\n [ 1.  0.  1.]\\n [ 0. -1. -1.]]': array([ 0.,  0., nan, nan,  0., nan,  0., nan, nan]),\n",
       " '[[-1.  0.  1.]\\n [ 1.  0.  1.]\\n [ 0. -1. -1.]]': array([nan,  0., nan, nan,  0., nan,  0., nan, nan]),\n",
       " '[[-1.  0.  1.]\\n [ 1.  1.  1.]\\n [ 0. -1. -1.]]': array([nan,  0., nan, nan, nan, nan,  0., nan, nan]),\n",
       " '[[ 0.  0.  0.]\\n [ 0.  1. -1.]\\n [ 0.  0.  0.]]': array([ 0.,  0.,  0.,  0., nan, nan,  0.,  0.,  0.]),\n",
       " '[[ 0.  0.  1.]\\n [ 0.  1. -1.]\\n [ 0.  0.  0.]]': array([ 0.,  0., nan,  0., nan, nan,  0.,  0.,  0.]),\n",
       " '[[ 0.  0.  1.]\\n [-1.  1. -1.]\\n [ 0.  0.  0.]]': array([ 0.,  0., nan, nan, nan, nan,  0.,  0.,  0.]),\n",
       " '[[ 0.  1.  1.]\\n [-1.  1. -1.]\\n [ 0.  0.  0.]]': array([ 0., nan, nan, nan, nan, nan,  0.,  0.,  0.]),\n",
       " '[[ 0.  1.  1.]\\n [-1.  1. -1.]\\n [-1.  0.  0.]]': array([ 0., nan, nan, nan, nan, nan, nan,  0.,  0.]),\n",
       " '[[ 0.  1.  1.]\\n [-1.  1. -1.]\\n [-1.  0.  1.]]': array([ 0., nan, nan, nan, nan, nan, nan,  0., nan]),\n",
       " '[[-1.  1.  1.]\\n [-1.  1. -1.]\\n [-1.  0.  1.]]': array([nan, nan, nan, nan, nan, nan, nan,  0., nan]),\n",
       " '[[ 0.  1.  0.]\\n [ 0.  0. -1.]\\n [ 0.  0.  1.]]': array([ 0., nan,  0.,  0.,  0., nan,  0.,  0., nan]),\n",
       " '[[-1.  1.  0.]\\n [ 0.  0. -1.]\\n [ 0.  0.  1.]]': array([nan, nan,  0.,  0.,  0., nan,  0.,  0., nan]),\n",
       " '[[-1.  1.  0.]\\n [ 0.  0. -1.]\\n [ 1.  0.  1.]]': array([nan, nan,  0.,  0.,  0., nan, nan,  0., nan]),\n",
       " '[[-1.  1. -1.]\\n [ 0.  0. -1.]\\n [ 1.  0.  1.]]': array([nan, nan, nan,  0.,  0., nan, nan,  0., nan]),\n",
       " '[[-1.  1. -1.]\\n [ 1.  0. -1.]\\n [ 1.  0.  1.]]': array([nan, nan, nan, nan,  0., nan, nan,  0., nan]),\n",
       " '[[-1.  1. -1.]\\n [ 1. -1. -1.]\\n [ 1.  0.  1.]]': array([nan, nan, nan, nan, nan, nan, nan,  0., nan]),\n",
       " '[[-1.  1. -1.]\\n [ 1. -1. -1.]\\n [ 1.  1.  1.]]': array([nan, nan, nan, nan, nan, nan, nan, nan, nan]),\n",
       " '[[ 0.  0.  1.]\\n [ 0. -1.  0.]\\n [ 0.  1. -1.]]': array([ 0.,  0., nan,  0., nan,  0.,  0., nan, nan]),\n",
       " '[[ 0.  0.  1.]\\n [ 0. -1.  0.]\\n [ 1.  1. -1.]]': array([ 0.,  0., nan,  0., nan,  0., nan, nan, nan]),\n",
       " '[[ 0.  0.  1.]\\n [ 0. -1. -1.]\\n [ 1.  1. -1.]]': array([ 0.,  0., nan,  0., nan, nan, nan, nan, nan]),\n",
       " '[[ 0.  0.  1.]\\n [ 1. -1. -1.]\\n [ 1.  1. -1.]]': array([ 0.,  0., nan, nan, nan, nan, nan, nan, nan]),\n",
       " '[[ 0. -1.  1.]\\n [ 1. -1. -1.]\\n [ 1.  1. -1.]]': array([ 0., nan, nan, nan, nan, nan, nan, nan, nan]),\n",
       " '[[ 1. -1.  1.]\\n [ 1. -1. -1.]\\n [ 1.  1. -1.]]': array([nan, nan, nan, nan, nan, nan, nan, nan, nan]),\n",
       " '[[ 0.  0.  0.]\\n [-1.  0.  0.]\\n [ 0.  0.  1.]]': array([ 0.,  0.,  0., nan,  0.,  0.,  0.,  0., nan]),\n",
       " '[[-1.  1.  0.]\\n [-1.  0.  0.]\\n [ 0.  0.  1.]]': array([nan, nan,  0., nan,  0.,  0.,  0.,  0., nan]),\n",
       " '[[-1.  1.  1.]\\n [-1.  0.  0.]\\n [ 0.  0.  1.]]': array([nan, nan, nan, nan,  0.,  0.,  0.,  0., nan]),\n",
       " '[[-1.  1.  1.]\\n [-1.  0.  0.]\\n [ 0. -1.  1.]]': array([nan, nan, nan, nan,  0.,  0.,  0., nan, nan]),\n",
       " '[[-1.  1.  1.]\\n [-1.  1.  0.]\\n [ 0. -1.  1.]]': array([nan, nan, nan, nan, nan,  0.,  0., nan, nan]),\n",
       " '[[-1.  1.  1.]\\n [-1.  1. -1.]\\n [ 0. -1.  1.]]': array([nan, nan, nan, nan, nan, nan,  0., nan, nan]),\n",
       " '[[-1.  1.  1.]\\n [-1.  1. -1.]\\n [ 1. -1.  1.]]': array([nan, nan, nan, nan, nan, nan, nan, nan, nan]),\n",
       " '[[ 0. -1.  0.]\\n [ 0.  0.  0.]\\n [ 0.  0.  1.]]': array([ 0., nan,  0.,  0.,  0.,  0.,  0.,  0., nan]),\n",
       " '[[ 1. -1.  0.]\\n [ 0.  0.  0.]\\n [ 0.  0.  1.]]': array([nan, nan,  0.,  0.,  0.,  0.,  0.,  0., nan]),\n",
       " '[[ 1. -1.  0.]\\n [ 0.  0.  0.]\\n [-1.  0.  1.]]': array([nan, nan,  0.,  0.,  0.,  0., nan,  0., nan]),\n",
       " '[[ 1. -1.  1.]\\n [ 0.  0.  0.]\\n [-1.  0.  1.]]': array([nan, nan, nan,  0.,  0.,  0., nan,  0., nan]),\n",
       " '[[ 1. -1.  1.]\\n [ 0.  0.  0.]\\n [-1. -1.  1.]]': array([nan, nan, nan,  0.,  0.,  0., nan, nan, nan]),\n",
       " '[[ 1. -1.  1.]\\n [ 0.  1.  0.]\\n [-1. -1.  1.]]': array([nan, nan, nan,  0., nan,  0., nan, nan, nan]),\n",
       " '[[ 0.  0.  1.]\\n [ 1.  0.  0.]\\n [-1.  0.  0.]]': array([ 0.,  0., nan, nan,  0.,  0., nan,  0.,  0.]),\n",
       " '[[ 0.  0.  1.]\\n [ 1.  0.  0.]\\n [-1. -1.  0.]]': array([ 0.,  0., nan, nan,  0.,  0., nan, nan,  0.]),\n",
       " '[[ 1.  0.  1.]\\n [ 1.  0.  0.]\\n [-1. -1.  0.]]': array([nan,  0., nan, nan,  0.,  0., nan, nan,  0.]),\n",
       " '[[ 1.  0.  1.]\\n [ 1. -1.  0.]\\n [-1. -1.  0.]]': array([nan,  0., nan, nan, nan,  0., nan, nan,  0.]),\n",
       " '[[ 1.  1.  1.]\\n [ 1. -1.  0.]\\n [-1. -1.  0.]]': array([nan, nan, nan, nan, nan,  0., nan, nan,  0.]),\n",
       " '[[ 1.  0.  0.]\\n [ 0.  0.  0.]\\n [ 0. -1.  1.]]': array([nan,  0.,  0.,  0.,  0.,  0.,  0., nan, nan]),\n",
       " '[[ 1.  0.  0.]\\n [-1.  0.  0.]\\n [ 0. -1.  1.]]': array([nan,  0.,  0., nan,  0.,  0.,  0., nan, nan]),\n",
       " '[[ 1.  1.  0.]\\n [-1.  0.  0.]\\n [ 0. -1.  1.]]': array([nan, nan,  0., nan,  0.,  0.,  0., nan, nan]),\n",
       " '[[ 1.  1. -1.]\\n [-1.  0.  0.]\\n [ 0. -1.  1.]]': array([nan, nan, nan, nan,  0.,  0.,  0., nan, nan]),\n",
       " '[[ 1.  1. -1.]\\n [-1.  0.  0.]\\n [ 1. -1.  1.]]': array([nan, nan, nan, nan,  0.,  0., nan, nan, nan]),\n",
       " '[[ 1.  1. -1.]\\n [-1.  0. -1.]\\n [ 1. -1.  1.]]': array([nan, nan, nan, nan,  0., nan, nan, nan, nan]),\n",
       " '[[ 1.  1. -1.]\\n [-1.  1. -1.]\\n [ 1. -1.  1.]]': array([nan, nan, nan, nan, nan, nan, nan, nan, nan]),\n",
       " '[[ 0.  1.  0.]\\n [ 1.  0. -1.]\\n [ 0.  0.  0.]]': array([ 0., nan,  0., nan,  0., nan,  0.,  0.,  0.]),\n",
       " '[[-1.  1.  0.]\\n [ 1.  0. -1.]\\n [ 0.  0.  0.]]': array([nan, nan,  0., nan,  0., nan,  0.,  0.,  0.]),\n",
       " '[[-1.  1.  0.]\\n [ 1.  1. -1.]\\n [ 0.  0.  0.]]': array([nan, nan,  0., nan, nan, nan,  0.,  0.,  0.]),\n",
       " '[[-1.  1.  0.]\\n [ 1.  1. -1.]\\n [ 0.  0. -1.]]': array([nan, nan,  0., nan, nan, nan,  0.,  0., nan]),\n",
       " '[[-1.  1.  0.]\\n [ 1.  1. -1.]\\n [ 0.  1. -1.]]': array([nan, nan,  0., nan, nan, nan,  0., nan, nan]),\n",
       " '[[ 0.  0.  0.]\\n [ 0.  0.  0.]\\n [ 1.  0. -1.]]': array([ 0.,  0.,  0.,  0.,  0.,  0., nan,  0., nan]),\n",
       " '[[ 0.  0.  0.]\\n [ 1.  0.  0.]\\n [ 1.  0. -1.]]': array([ 0.,  0.,  0., nan,  0.,  0., nan,  0., nan]),\n",
       " '[[ 0.  0.  0.]\\n [ 1.  0. -1.]\\n [ 1.  0. -1.]]': array([ 0.,  0.,  0., nan,  0., nan, nan,  0., nan]),\n",
       " '[[ 1.  0.  0.]\\n [ 1.  0. -1.]\\n [ 1.  0. -1.]]': array([nan,  0.,  0., nan,  0., nan, nan,  0., nan]),\n",
       " '[[ 0.  0.  1.]\\n [ 0.  0.  0.]\\n [ 0. -1.  0.]]': array([ 0.,  0., nan,  0.,  0.,  0.,  0., nan,  0.]),\n",
       " '[[ 0.  0.  1.]\\n [ 0.  0.  0.]\\n [ 1. -1.  0.]]': array([ 0.,  0., nan,  0.,  0.,  0., nan, nan,  0.]),\n",
       " '[[ 0.  0.  1.]\\n [ 0. -1.  0.]\\n [ 1. -1.  0.]]': array([ 0.,  0., nan,  0., nan,  0., nan, nan,  0.]),\n",
       " '[[ 0.  0.  1.]\\n [ 1. -1.  0.]\\n [ 1. -1.  0.]]': array([ 0.,  0., nan, nan, nan,  0., nan, nan,  0.]),\n",
       " '[[ 0.  0.  1.]\\n [ 1. -1. -1.]\\n [ 1. -1.  0.]]': array([ 0.,  0., nan, nan, nan, nan, nan, nan,  0.]),\n",
       " '[[ 0.  1.  1.]\\n [ 1. -1. -1.]\\n [ 1. -1.  0.]]': array([ 0., nan, nan, nan, nan, nan, nan, nan,  0.]),\n",
       " '[[-1.  1.  1.]\\n [ 1. -1. -1.]\\n [ 1. -1.  0.]]': array([nan, nan, nan, nan, nan, nan, nan, nan,  0.]),\n",
       " '[[-1.  1.  1.]\\n [ 1. -1. -1.]\\n [ 1. -1.  1.]]': array([nan, nan, nan, nan, nan, nan, nan, nan, nan]),\n",
       " '[[ 0.  0.  0.]\\n [-1.  0. -1.]\\n [ 1.  1.  0.]]': array([ 0.,  0.,  0., nan,  0., nan, nan, nan,  0.]),\n",
       " '[[ 1.  0.  0.]\\n [-1.  0. -1.]\\n [ 1.  1.  0.]]': array([nan,  0.,  0., nan,  0., nan, nan, nan,  0.]),\n",
       " '[[ 1. -1.  0.]\\n [-1.  0. -1.]\\n [ 1.  1.  0.]]': array([nan, nan,  0., nan,  0., nan, nan, nan,  0.]),\n",
       " '[[ 1. -1.  1.]\\n [-1.  0. -1.]\\n [ 1.  1.  0.]]': array([nan, nan, nan, nan,  0., nan, nan, nan,  0.]),\n",
       " '[[ 1. -1.  1.]\\n [-1.  0. -1.]\\n [ 1.  1. -1.]]': array([nan, nan, nan, nan,  0., nan, nan, nan, nan]),\n",
       " '[[ 1. -1.  1.]\\n [-1.  1. -1.]\\n [ 1.  1. -1.]]': array([nan, nan, nan, nan, nan, nan, nan, nan, nan]),\n",
       " '[[ 0.  0.  1.]\\n [ 1.  0.  0.]\\n [-1.  1. -1.]]': array([ 0.,  0., nan, nan,  0.,  0., nan, nan, nan]),\n",
       " '[[ 0.  0.  1.]\\n [ 1.  0. -1.]\\n [-1.  1. -1.]]': array([ 0.,  0., nan, nan,  0., nan, nan, nan, nan]),\n",
       " '[[ 1.  0.  1.]\\n [ 1.  0. -1.]\\n [-1.  1. -1.]]': array([nan,  0., nan, nan,  0., nan, nan, nan, nan]),\n",
       " '[[ 1.  0.  1.]\\n [ 1. -1. -1.]\\n [-1.  1. -1.]]': array([nan,  0., nan, nan, nan, nan, nan, nan, nan]),\n",
       " '[[ 1.  1.  1.]\\n [ 1. -1. -1.]\\n [-1.  1. -1.]]': array([nan, nan, nan, nan, nan, nan, nan, nan, nan]),\n",
       " '[[ 0.  0.  1.]\\n [ 0.  0.  0.]\\n [ 1.  0. -1.]]': array([ 0.,  0., nan,  0.,  0.,  0., nan,  0., nan]),\n",
       " '[[ 0.  0.  1.]\\n [ 0.  0.  0.]\\n [ 1. -1. -1.]]': array([ 0.,  0., nan,  0.,  0.,  0., nan, nan, nan]),\n",
       " '[[ 0.  1.  1.]\\n [ 0.  0.  0.]\\n [ 1. -1. -1.]]': array([ 0., nan, nan,  0.,  0.,  0., nan, nan, nan]),\n",
       " '[[ 0.  1.  1.]\\n [ 0. -1.  0.]\\n [ 1. -1. -1.]]': array([ 0., nan, nan,  0., nan,  0., nan, nan, nan]),\n",
       " '[[ 1.  1.  1.]\\n [ 0. -1.  0.]\\n [ 1. -1. -1.]]': array([nan, nan, nan,  0., nan,  0., nan, nan, nan]),\n",
       " '[[ 0.  0. -1.]\\n [ 0.  0.  0.]\\n [ 0.  0.  1.]]': array([ 0.,  0., nan,  0.,  0.,  0.,  0.,  0., nan]),\n",
       " '[[ 0.  0. -1.]\\n [ 1.  0.  0.]\\n [ 0.  0.  1.]]': array([ 0.,  0., nan, nan,  0.,  0.,  0.,  0., nan]),\n",
       " '[[-1.  0. -1.]\\n [ 1.  0.  0.]\\n [ 0.  0.  1.]]': array([nan,  0., nan, nan,  0.,  0.,  0.,  0., nan]),\n",
       " '[[-1.  0. -1.]\\n [ 1.  0.  1.]\\n [ 0.  0.  1.]]': array([nan,  0., nan, nan,  0., nan,  0.,  0., nan]),\n",
       " '[[-1.  0. -1.]\\n [ 1.  0.  1.]\\n [ 0. -1.  1.]]': array([nan,  0., nan, nan,  0., nan,  0., nan, nan]),\n",
       " '[[-1.  1. -1.]\\n [ 1.  0.  1.]\\n [ 0. -1.  1.]]': array([nan, nan, nan, nan,  0., nan,  0., nan, nan]),\n",
       " '[[-1.  1. -1.]\\n [ 1.  0.  1.]\\n [-1. -1.  1.]]': array([nan, nan, nan, nan,  0., nan, nan, nan, nan]),\n",
       " '[[-1.  1. -1.]\\n [ 1.  1.  1.]\\n [-1. -1.  1.]]': array([nan, nan, nan, nan, nan, nan, nan, nan, nan]),\n",
       " '[[-1.  0.  1.]\\n [ 0.  1. -1.]\\n [ 0.  0.  0.]]': array([nan,  0., nan,  0., nan, nan,  0.,  0.,  0.]),\n",
       " '[[-1.  0.  1.]\\n [ 1.  1. -1.]\\n [ 0.  0.  0.]]': array([nan,  0., nan, nan, nan, nan,  0.,  0.,  0.]),\n",
       " '[[-1.  0.  1.]\\n [ 1.  1. -1.]\\n [-1.  0.  0.]]': array([nan,  0., nan, nan, nan, nan, nan,  0.,  0.]),\n",
       " '[[-1.  1.  1.]\\n [ 1.  1. -1.]\\n [-1.  0.  0.]]': array([nan, nan, nan, nan, nan, nan, nan,  0.,  0.]),\n",
       " '[[-1.  1.  1.]\\n [ 1.  1. -1.]\\n [-1. -1.  0.]]': array([nan, nan, nan, nan, nan, nan, nan, nan,  0.]),\n",
       " '[[-1.  1.  1.]\\n [ 1.  1. -1.]\\n [-1. -1.  1.]]': array([nan, nan, nan, nan, nan, nan, nan, nan, nan]),\n",
       " '[[ 0. -1.  0.]\\n [ 0.  0.  1.]\\n [ 0.  0.  0.]]': array([ 0., nan,  0.,  0.,  0., nan,  0.,  0.,  0.]),\n",
       " '[[ 0. -1.  0.]\\n [ 1.  0.  1.]\\n [ 0.  0.  0.]]': array([ 0., nan,  0., nan,  0., nan,  0.,  0.,  0.]),\n",
       " '[[-1. -1.  0.]\\n [ 1.  0.  1.]\\n [ 0.  0.  0.]]': array([nan, nan,  0., nan,  0., nan,  0.,  0.,  0.]),\n",
       " '[[-1. -1.  0.]\\n [ 1.  1.  1.]\\n [ 0.  0.  0.]]': array([nan, nan,  0., nan, nan, nan,  0.,  0.,  0.]),\n",
       " '[[-1.  0.  0.]\\n [ 0.  0.  1.]\\n [ 0.  0.  0.]]': array([nan,  0.,  0.,  0.,  0., nan,  0.,  0.,  0.]),\n",
       " '[[-1.  0.  0.]\\n [ 0.  0.  1.]\\n [ 0.  1.  0.]]': array([nan,  0.,  0.,  0.,  0., nan,  0., nan,  0.]),\n",
       " '[[-1.  0.  0.]\\n [ 0. -1.  1.]\\n [ 0.  1.  0.]]': array([nan,  0.,  0.,  0., nan, nan,  0., nan,  0.]),\n",
       " '[[-1.  1.  0.]\\n [ 0. -1.  1.]\\n [ 0.  1.  0.]]': array([nan, nan,  0.,  0., nan, nan,  0., nan,  0.]),\n",
       " '[[-1.  1.  0.]\\n [ 0. -1.  1.]\\n [-1.  1.  0.]]': array([nan, nan,  0.,  0., nan, nan, nan, nan,  0.]),\n",
       " '[[-1.  1.  1.]\\n [ 0. -1.  1.]\\n [-1.  1.  0.]]': array([nan, nan, nan,  0., nan, nan, nan, nan,  0.]),\n",
       " '[[-1.  1.  1.]\\n [ 0. -1.  1.]\\n [-1.  1. -1.]]': array([nan, nan, nan,  0., nan, nan, nan, nan, nan]),\n",
       " '[[ 0.  0.  0.]\\n [ 0.  0.  1.]\\n [ 1.  0. -1.]]': array([ 0.,  0.,  0.,  0.,  0., nan, nan,  0., nan]),\n",
       " '[[ 0.  0. -1.]\\n [ 0.  0.  1.]\\n [ 1.  0. -1.]]': array([ 0.,  0., nan,  0.,  0., nan, nan,  0., nan]),\n",
       " '[[ 1.  0. -1.]\\n [ 0.  0.  1.]\\n [ 1.  0. -1.]]': array([nan,  0., nan,  0.,  0., nan, nan,  0., nan]),\n",
       " '[[ 1. -1. -1.]\\n [ 0.  0.  1.]\\n [ 1.  0. -1.]]': array([nan, nan, nan,  0.,  0., nan, nan,  0., nan]),\n",
       " '[[ 1. -1. -1.]\\n [ 0.  0.  1.]\\n [ 1.  1. -1.]]': array([nan, nan, nan,  0.,  0., nan, nan, nan, nan]),\n",
       " '[[-1.  0.  0.]\\n [ 0.  0.  0.]\\n [ 1.  0.  1.]]': array([nan,  0.,  0.,  0.,  0.,  0., nan,  0., nan]),\n",
       " '[[-1. -1.  0.]\\n [ 0.  0.  0.]\\n [ 1.  0.  1.]]': array([nan, nan,  0.,  0.,  0.,  0., nan,  0., nan]),\n",
       " '[[-1. -1.  0.]\\n [ 0.  0.  0.]\\n [ 1.  1.  1.]]': array([nan, nan,  0.,  0.,  0.,  0., nan, nan, nan]),\n",
       " '[[ 0. -1.  0.]\\n [ 0.  0.  1.]\\n [ 1.  0.  0.]]': array([ 0., nan,  0.,  0.,  0., nan, nan,  0.,  0.]),\n",
       " '[[-1. -1.  0.]\\n [ 0.  0.  1.]\\n [ 1.  0.  0.]]': array([nan, nan,  0.,  0.,  0., nan, nan,  0.,  0.]),\n",
       " '[[-1. -1.  0.]\\n [ 0.  1.  1.]\\n [ 1.  0.  0.]]': array([nan, nan,  0.,  0., nan, nan, nan,  0.,  0.]),\n",
       " '[[-1. -1.  0.]\\n [ 0.  1.  1.]\\n [ 1. -1.  0.]]': array([nan, nan,  0.,  0., nan, nan, nan, nan,  0.]),\n",
       " '[[-1. -1.  1.]\\n [ 0.  1.  1.]\\n [ 1. -1.  0.]]': array([nan, nan, nan,  0., nan, nan, nan, nan,  0.]),\n",
       " '[[ 0.  0.  0.]\\n [ 0. -1.  0.]\\n [ 0.  1.  0.]]': array([ 0.,  0.,  0.,  0., nan,  0.,  0., nan,  0.]),\n",
       " '[[-1.  0.  1.]\\n [ 0. -1.  0.]\\n [ 0.  1.  0.]]': array([nan,  0., nan,  0., nan,  0.,  0., nan,  0.]),\n",
       " '[[-1.  0.  1.]\\n [ 0. -1.  0.]\\n [ 0.  1.  1.]]': array([nan,  0., nan,  0., nan,  0.,  0., nan, nan]),\n",
       " '[[-1.  0.  1.]\\n [-1. -1.  0.]\\n [ 0.  1.  1.]]': array([nan,  0., nan, nan, nan,  0.,  0., nan, nan]),\n",
       " '[[-1.  1.  1.]\\n [-1. -1.  0.]\\n [ 0.  1.  1.]]': array([nan, nan, nan, nan, nan,  0.,  0., nan, nan]),\n",
       " '[[ 1.  1.  0.]\\n [ 0.  0.  0.]\\n [ 0. -1.  0.]]': array([nan, nan,  0.,  0.,  0.,  0.,  0., nan,  0.]),\n",
       " '[[ 1.  1. -1.]\\n [ 0.  0.  0.]\\n [ 0. -1.  0.]]': array([nan, nan, nan,  0.,  0.,  0.,  0., nan,  0.]),\n",
       " '[[ 1.  1. -1.]\\n [ 0.  0.  0.]\\n [ 1. -1.  0.]]': array([nan, nan, nan,  0.,  0.,  0., nan, nan,  0.]),\n",
       " '[[ 1.  1. -1.]\\n [-1.  0.  0.]\\n [ 1. -1.  0.]]': array([nan, nan, nan, nan,  0.,  0., nan, nan,  0.]),\n",
       " '[[ 1.  1. -1.]\\n [-1.  1.  0.]\\n [ 1. -1.  0.]]': array([nan, nan, nan, nan, nan,  0., nan, nan,  0.]),\n",
       " '[[ 1.  1. -1.]\\n [-1.  1. -1.]\\n [ 1. -1.  0.]]': array([nan, nan, nan, nan, nan, nan, nan, nan,  0.]),\n",
       " '[[ 1.  0.  0.]\\n [ 0.  0.  0.]\\n [ 0.  0. -1.]]': array([nan,  0.,  0.,  0.,  0.,  0.,  0.,  0., nan]),\n",
       " '[[ 1.  0.  0.]\\n [ 1.  0.  0.]\\n [ 0.  0. -1.]]': array([nan,  0.,  0., nan,  0.,  0.,  0.,  0., nan]),\n",
       " '[[ 1.  0. -1.]\\n [ 1.  0.  0.]\\n [ 0.  0. -1.]]': array([nan,  0., nan, nan,  0.,  0.,  0.,  0., nan]),\n",
       " '[[ 1.  1. -1.]\\n [ 1.  0.  0.]\\n [ 0.  0. -1.]]': array([nan, nan, nan, nan,  0.,  0.,  0.,  0., nan]),\n",
       " '[[ 1.  1. -1.]\\n [ 1.  0. -1.]\\n [ 0.  0. -1.]]': array([nan, nan, nan, nan,  0., nan,  0.,  0., nan]),\n",
       " '[[ 0.  1.  1.]\\n [ 0.  0. -1.]\\n [ 0.  0.  0.]]': array([ 0., nan, nan,  0.,  0., nan,  0.,  0.,  0.]),\n",
       " '[[ 0.  1.  1.]\\n [ 0. -1. -1.]\\n [ 0.  0.  0.]]': array([ 0., nan, nan,  0., nan, nan,  0.,  0.,  0.]),\n",
       " '[[ 0.  1.  1.]\\n [ 1. -1. -1.]\\n [ 0.  0.  0.]]': array([ 0., nan, nan, nan, nan, nan,  0.,  0.,  0.]),\n",
       " '[[-1.  1.  1.]\\n [ 1. -1. -1.]\\n [ 0.  0.  0.]]': array([nan, nan, nan, nan, nan, nan,  0.,  0.,  0.]),\n",
       " '[[-1.  1.  1.]\\n [ 1. -1. -1.]\\n [ 1.  0.  0.]]': array([nan, nan, nan, nan, nan, nan, nan,  0.,  0.]),\n",
       " '[[ 0.  0. -1.]\\n [ 0.  0.  1.]\\n [ 0.  0.  0.]]': array([ 0.,  0., nan,  0.,  0., nan,  0.,  0.,  0.]),\n",
       " '[[ 0.  0. -1.]\\n [ 1.  0.  1.]\\n [ 0.  0.  0.]]': array([ 0.,  0., nan, nan,  0., nan,  0.,  0.,  0.]),\n",
       " '[[ 0. -1. -1.]\\n [ 1.  0.  1.]\\n [ 0.  0.  0.]]': array([ 0., nan, nan, nan,  0., nan,  0.,  0.,  0.]),\n",
       " '[[ 0. -1. -1.]\\n [ 1.  0.  1.]\\n [ 0.  0.  1.]]': array([ 0., nan, nan, nan,  0., nan,  0.,  0., nan]),\n",
       " '[[ 0. -1. -1.]\\n [ 1. -1.  1.]\\n [ 0.  0.  1.]]': array([ 0., nan, nan, nan, nan, nan,  0.,  0., nan]),\n",
       " '[[ 0. -1. -1.]\\n [ 1. -1.  1.]\\n [ 1.  0.  1.]]': array([ 0., nan, nan, nan, nan, nan, nan,  0., nan]),\n",
       " '[[-1. -1. -1.]\\n [ 1. -1.  1.]\\n [ 1.  0.  1.]]': array([nan, nan, nan, nan, nan, nan, nan,  0., nan]),\n",
       " '[[ 0.  0. -1.]\\n [ 0.  0.  0.]\\n [ 1.  0.  1.]]': array([ 0.,  0., nan,  0.,  0.,  0., nan,  0., nan]),\n",
       " '[[ 0.  0. -1.]\\n [ 0.  0.  0.]\\n [ 1. -1.  1.]]': array([ 0.,  0., nan,  0.,  0.,  0., nan, nan, nan]),\n",
       " '[[ 0. -1. -1.]\\n [ 1.  0.  1.]\\n [ 1. -1.  1.]]': array([ 0., nan, nan, nan,  0., nan, nan, nan, nan]),\n",
       " '[[-1. -1. -1.]\\n [ 1.  0.  1.]\\n [ 1. -1.  1.]]': array([nan, nan, nan, nan,  0., nan, nan, nan, nan]),\n",
       " '[[ 0. -1.  0.]\\n [ 0.  1.  0.]\\n [ 0.  0.  1.]]': array([ 0., nan,  0.,  0., nan,  0.,  0.,  0., nan]),\n",
       " '[[ 0. -1.  0.]\\n [-1.  1.  0.]\\n [ 0.  0.  1.]]': array([ 0., nan,  0., nan, nan,  0.,  0.,  0., nan]),\n",
       " '[[ 0. -1.  1.]\\n [-1.  1.  0.]\\n [ 0.  0.  1.]]': array([ 0., nan, nan, nan, nan,  0.,  0.,  0., nan]),\n",
       " '[[ 0. -1.  1.]\\n [-1.  1. -1.]\\n [ 0.  0.  1.]]': array([ 0., nan, nan, nan, nan, nan,  0.,  0., nan]),\n",
       " '[[ 1. -1.  1.]\\n [-1.  1. -1.]\\n [ 0.  0.  1.]]': array([nan, nan, nan, nan, nan, nan,  0.,  0., nan]),\n",
       " '[[ 0.  0.  0.]\\n [ 0.  0.  1.]\\n [ 0.  1. -1.]]': array([ 0.,  0.,  0.,  0.,  0., nan,  0., nan, nan]),\n",
       " '[[-1.  0.  0.]\\n [ 0.  0.  1.]\\n [ 0.  1. -1.]]': array([nan,  0.,  0.,  0.,  0., nan,  0., nan, nan]),\n",
       " '[[-1.  0.  0.]\\n [ 0.  1.  1.]\\n [ 0.  1. -1.]]': array([nan,  0.,  0.,  0., nan, nan,  0., nan, nan]),\n",
       " '[[-1.  0.  0.]\\n [ 0.  1.  1.]\\n [-1.  1. -1.]]': array([nan,  0.,  0.,  0., nan, nan, nan, nan, nan]),\n",
       " '[[-1.  1.  0.]\\n [ 0.  1.  1.]\\n [-1.  1. -1.]]': array([nan, nan,  0.,  0., nan, nan, nan, nan, nan]),\n",
       " '[[ 1. -1.  1.]\\n [ 1.  0.  0.]\\n [-1. -1.  0.]]': array([nan, nan, nan, nan,  0.,  0., nan, nan,  0.]),\n",
       " '[[ 1. -1.  1.]\\n [ 1.  1.  0.]\\n [-1. -1.  0.]]': array([nan, nan, nan, nan, nan,  0., nan, nan,  0.]),\n",
       " '[[ 1. -1.  1.]\\n [ 1.  1. -1.]\\n [-1. -1.  0.]]': array([nan, nan, nan, nan, nan, nan, nan, nan,  0.]),\n",
       " '[[ 1. -1.  1.]\\n [ 1.  1. -1.]\\n [-1. -1.  1.]]': array([nan, nan, nan, nan, nan, nan, nan, nan, nan]),\n",
       " '[[ 0.  0.  0.]\\n [ 0.  0. -1.]\\n [ 1.  0.  0.]]': array([ 0.,  0.,  0.,  0.,  0., nan, nan,  0.,  0.]),\n",
       " '[[ 0.  0.  0.]\\n [ 0.  0. -1.]\\n [ 1.  1.  0.]]': array([ 0.,  0.,  0.,  0.,  0., nan, nan, nan,  0.]),\n",
       " '[[-1.  0.  0.]\\n [ 0.  0. -1.]\\n [ 1.  1.  0.]]': array([nan,  0.,  0.,  0.,  0., nan, nan, nan,  0.]),\n",
       " '[[-1.  0.  0.]\\n [ 1.  0. -1.]\\n [ 1.  1.  0.]]': array([nan,  0.,  0., nan,  0., nan, nan, nan,  0.]),\n",
       " '[[-1.  0.  0.]\\n [ 1.  0. -1.]\\n [ 1.  1. -1.]]': array([nan,  0.,  0., nan,  0., nan, nan, nan, nan]),\n",
       " '[[-1.  1.  0.]\\n [ 1.  0. -1.]\\n [ 1.  1. -1.]]': array([nan, nan,  0., nan,  0., nan, nan, nan, nan]),\n",
       " '[[-1.  1. -1.]\\n [ 1.  0. -1.]\\n [ 1.  1. -1.]]': array([nan, nan, nan, nan,  0., nan, nan, nan, nan]),\n",
       " '[[ 0.  0. -1.]\\n [ 0.  0.  1.]\\n [ 0.  0.  1.]]': array([ 0.,  0., nan,  0.,  0., nan,  0.,  0., nan]),\n",
       " '[[-1.  0. -1.]\\n [ 0.  0.  1.]\\n [ 0.  0.  1.]]': array([nan,  0., nan,  0.,  0., nan,  0.,  0., nan]),\n",
       " '[[-1.  1. -1.]\\n [ 0.  0.  1.]\\n [ 0.  0.  1.]]': array([nan, nan, nan,  0.,  0., nan,  0.,  0., nan]),\n",
       " '[[-1.  1. -1.]\\n [ 0.  0.  1.]\\n [ 0. -1.  1.]]': array([nan, nan, nan,  0.,  0., nan,  0., nan, nan]),\n",
       " '[[-1.  1. -1.]\\n [ 0.  1.  1.]\\n [ 0. -1.  1.]]': array([nan, nan, nan,  0., nan, nan,  0., nan, nan]),\n",
       " '[[-1.  1. -1.]\\n [ 0.  1.  1.]\\n [-1. -1.  1.]]': array([nan, nan, nan,  0., nan, nan, nan, nan, nan]),\n",
       " '[[ 0. -1.  0.]\\n [ 0.  0.  0.]\\n [ 0.  1.  1.]]': array([ 0., nan,  0.,  0.,  0.,  0.,  0., nan, nan]),\n",
       " '[[ 0. -1.  0.]\\n [ 0.  0. -1.]\\n [ 0.  1.  1.]]': array([ 0., nan,  0.,  0.,  0., nan,  0., nan, nan]),\n",
       " '[[ 0. -1.  0.]\\n [ 0.  1. -1.]\\n [ 0.  1.  1.]]': array([ 0., nan,  0.,  0., nan, nan,  0., nan, nan]),\n",
       " '[[ 0. -1. -1.]\\n [ 0.  1. -1.]\\n [ 0.  1.  1.]]': array([ 0., nan, nan,  0., nan, nan,  0., nan, nan]),\n",
       " '[[ 0. -1. -1.]\\n [ 0.  1. -1.]\\n [ 1.  1.  1.]]': array([ 0., nan, nan,  0., nan, nan, nan, nan, nan]),\n",
       " '[[ 0.  0.  0.]\\n [ 0.  0.  0.]\\n [ 0. -1.  1.]]': array([ 0.,  0.,  0.,  0.,  0.,  0.,  0., nan, nan]),\n",
       " '[[ 0.  0.  0.]\\n [ 0.  1.  0.]\\n [ 0. -1.  1.]]': array([ 0.,  0.,  0.,  0., nan,  0.,  0., nan, nan]),\n",
       " '[[-1.  0.  0.]\\n [ 0.  1.  0.]\\n [ 0. -1.  1.]]': array([nan,  0.,  0.,  0., nan,  0.,  0., nan, nan]),\n",
       " '[[-1.  0.  1.]\\n [ 0.  1.  0.]\\n [ 0. -1.  1.]]': array([nan,  0., nan,  0., nan,  0.,  0., nan, nan]),\n",
       " '[[-1. -1.  1.]\\n [ 0.  1.  0.]\\n [ 0. -1.  1.]]': array([nan, nan, nan,  0., nan,  0.,  0., nan, nan]),\n",
       " '[[-1. -1.  1.]\\n [ 0.  1.  0.]\\n [ 1. -1.  1.]]': array([nan, nan, nan,  0., nan,  0., nan, nan, nan]),\n",
       " '[[ 0.  0.  0.]\\n [ 0.  0.  0.]\\n [-1.  0.  1.]]': array([ 0.,  0.,  0.,  0.,  0.,  0., nan,  0., nan]),\n",
       " '[[ 0.  0.  0.]\\n [ 0.  0.  0.]\\n [-1.  1.  1.]]': array([ 0.,  0.,  0.,  0.,  0.,  0., nan, nan, nan]),\n",
       " '[[-1.  0.  0.]\\n [ 0.  0.  0.]\\n [-1.  1.  1.]]': array([nan,  0.,  0.,  0.,  0.,  0., nan, nan, nan]),\n",
       " '[[-1.  0.  0.]\\n [ 0.  1.  0.]\\n [-1.  1.  1.]]': array([nan,  0.,  0.,  0., nan,  0., nan, nan, nan]),\n",
       " '[[-1.  0.  0.]\\n [-1.  1.  0.]\\n [-1.  1.  1.]]': array([nan,  0.,  0., nan, nan,  0., nan, nan, nan]),\n",
       " '[[ 0. -1.  1.]\\n [ 0.  0.  0.]\\n [ 1.  0.  0.]]': array([ 0., nan, nan,  0.,  0.,  0., nan,  0.,  0.]),\n",
       " '[[ 0. -1.  1.]\\n [ 0.  0.  0.]\\n [ 1.  0. -1.]]': array([ 0., nan, nan,  0.,  0.,  0., nan,  0., nan]),\n",
       " '[[ 0. -1.  1.]\\n [ 1.  0.  0.]\\n [ 1.  0. -1.]]': array([ 0., nan, nan, nan,  0.,  0., nan,  0., nan]),\n",
       " '[[ 0. -1.  1.]\\n [ 1. -1.  0.]\\n [ 1.  0. -1.]]': array([ 0., nan, nan, nan, nan,  0., nan,  0., nan]),\n",
       " '[[ 0. -1.  1.]\\n [ 1. -1.  0.]\\n [ 1.  1. -1.]]': array([ 0., nan, nan, nan, nan,  0., nan, nan, nan]),\n",
       " '[[ 0.  0.  0.]\\n [ 0. -1.  0.]\\n [ 1.  0.  0.]]': array([ 0.,  0.,  0.,  0., nan,  0., nan,  0.,  0.]),\n",
       " '[[ 0.  0.  0.]\\n [ 0. -1.  0.]\\n [ 1.  0.  1.]]': array([ 0.,  0.,  0.,  0., nan,  0., nan,  0., nan]),\n",
       " '[[ 0.  0. -1.]\\n [ 0. -1.  0.]\\n [ 1.  0.  1.]]': array([ 0.,  0., nan,  0., nan,  0., nan,  0., nan]),\n",
       " '[[ 0.  1. -1.]\\n [ 0. -1.  0.]\\n [ 1.  0.  1.]]': array([ 0., nan, nan,  0., nan,  0., nan,  0., nan]),\n",
       " '[[ 0.  1. -1.]\\n [ 0. -1. -1.]\\n [ 1.  0.  1.]]': array([ 0., nan, nan,  0., nan, nan, nan,  0., nan]),\n",
       " '[[ 1.  1. -1.]\\n [ 0. -1. -1.]\\n [ 1.  0.  1.]]': array([nan, nan, nan,  0., nan, nan, nan,  0., nan]),\n",
       " '[[ 1.  1. -1.]\\n [-1. -1. -1.]\\n [ 1.  0.  1.]]': array([nan, nan, nan, nan, nan, nan, nan,  0., nan]),\n",
       " '[[ 0.  0. -1.]\\n [ 0.  1.  0.]\\n [ 0.  1.  0.]]': array([ 0.,  0., nan,  0., nan,  0.,  0., nan,  0.]),\n",
       " '[[-1.  0. -1.]\\n [ 0.  1.  0.]\\n [ 0.  1.  0.]]': array([nan,  0., nan,  0., nan,  0.,  0., nan,  0.]),\n",
       " '[[-1.  0. -1.]\\n [ 0.  1.  1.]\\n [ 0.  1.  0.]]': array([nan,  0., nan,  0., nan, nan,  0., nan,  0.]),\n",
       " '[[-1. -1. -1.]\\n [ 0.  1.  1.]\\n [ 0.  1.  0.]]': array([nan, nan, nan,  0., nan, nan,  0., nan,  0.]),\n",
       " '[[ 0.  0.  0.]\\n [ 1.  0.  0.]\\n [-1.  0.  1.]]': array([ 0.,  0.,  0., nan,  0.,  0., nan,  0., nan]),\n",
       " '[[ 0.  0.  0.]\\n [ 1.  0. -1.]\\n [-1.  0.  1.]]': array([ 0.,  0.,  0., nan,  0., nan, nan,  0., nan]),\n",
       " '[[ 0.  0.  0.]\\n [ 1.  1. -1.]\\n [-1.  0.  1.]]': array([ 0.,  0.,  0., nan, nan, nan, nan,  0., nan]),\n",
       " '[[-1.  0.  0.]\\n [ 1.  1. -1.]\\n [-1.  0.  1.]]': array([nan,  0.,  0., nan, nan, nan, nan,  0., nan]),\n",
       " '[[-1.  1.  0.]\\n [ 1.  1. -1.]\\n [-1.  0.  1.]]': array([nan, nan,  0., nan, nan, nan, nan,  0., nan]),\n",
       " '[[-1.  1. -1.]\\n [ 1.  1. -1.]\\n [-1.  0.  1.]]': array([nan, nan, nan, nan, nan, nan, nan,  0., nan]),\n",
       " '[[-1.  1. -1.]\\n [ 1.  1. -1.]\\n [-1.  1.  1.]]': array([nan, nan, nan, nan, nan, nan, nan, nan, nan]),\n",
       " '[[-1.  0.  0.]\\n [ 0. -1.  0.]\\n [ 1.  0.  1.]]': array([nan,  0.,  0.,  0., nan,  0., nan,  0., nan]),\n",
       " '[[-1.  0.  1.]\\n [ 0. -1.  0.]\\n [ 1.  0.  1.]]': array([nan,  0., nan,  0., nan,  0., nan,  0., nan]),\n",
       " '[[-1.  0.  1.]\\n [ 0. -1.  0.]\\n [ 1. -1.  1.]]': array([nan,  0., nan,  0., nan,  0., nan, nan, nan]),\n",
       " '[[-1.  1.  1.]\\n [ 0. -1.  0.]\\n [ 1. -1.  1.]]': array([nan, nan, nan,  0., nan,  0., nan, nan, nan]),\n",
       " '[[-1.  1.  1.]\\n [ 0. -1. -1.]\\n [ 1. -1.  1.]]': array([nan, nan, nan,  0., nan, nan, nan, nan, nan]),\n",
       " '[[ 1.  0.  0.]\\n [ 0.  0. -1.]\\n [ 0.  0.  1.]]': array([nan,  0.,  0.,  0.,  0., nan,  0.,  0., nan]),\n",
       " '[[ 1.  0.  0.]\\n [ 0.  0. -1.]\\n [-1.  0.  1.]]': array([nan,  0.,  0.,  0.,  0., nan, nan,  0., nan]),\n",
       " '[[ 1.  0.  1.]\\n [ 0.  0. -1.]\\n [-1.  0.  1.]]': array([nan,  0., nan,  0.,  0., nan, nan,  0., nan]),\n",
       " '[[ 1.  0.  1.]\\n [ 0. -1. -1.]\\n [-1.  0.  1.]]': array([nan,  0., nan,  0., nan, nan, nan,  0., nan]),\n",
       " '[[ 1.  1.  1.]\\n [ 0. -1. -1.]\\n [-1.  0.  1.]]': array([nan, nan, nan,  0., nan, nan, nan,  0., nan]),\n",
       " '[[ 0.  1. -1.]\\n [ 0.  0.  0.]\\n [ 0.  0.  0.]]': array([ 0., nan, nan,  0.,  0.,  0.,  0.,  0.,  0.]),\n",
       " '[[ 0.  1. -1.]\\n [ 0.  0.  0.]\\n [ 1.  0.  0.]]': array([ 0., nan, nan,  0.,  0.,  0., nan,  0.,  0.]),\n",
       " '[[ 0.  1. -1.]\\n [ 0.  0. -1.]\\n [ 1.  0.  0.]]': array([ 0., nan, nan,  0.,  0., nan, nan,  0.,  0.]),\n",
       " '[[ 0.  1. -1.]\\n [ 1.  0. -1.]\\n [ 1.  0.  0.]]': array([ 0., nan, nan, nan,  0., nan, nan,  0.,  0.]),\n",
       " '[[ 0.  1. -1.]\\n [ 1.  0. -1.]\\n [ 1.  0. -1.]]': array([ 0., nan, nan, nan,  0., nan, nan,  0., nan]),\n",
       " '[[ 1. -1.  0.]\\n [ 0.  0.  1.]\\n [ 0.  0.  0.]]': array([nan, nan,  0.,  0.,  0., nan,  0.,  0.,  0.]),\n",
       " '[[ 1. -1. -1.]\\n [ 0. -1.  1.]\\n [ 0.  1.  0.]]': array([nan, nan, nan,  0., nan, nan,  0., nan,  0.]),\n",
       " '[[ 1. -1. -1.]\\n [-1. -1.  1.]\\n [ 1.  1.  0.]]': array([nan, nan, nan, nan, nan, nan, nan, nan,  0.]),\n",
       " '[[ 1. -1. -1.]\\n [-1. -1.  1.]\\n [ 1.  1.  1.]]': array([nan, nan, nan, nan, nan, nan, nan, nan, nan]),\n",
       " '[[ 1.  0.  1.]\\n [ 0. -1. -1.]\\n [ 0.  1.  0.]]': array([nan,  0., nan,  0., nan, nan,  0., nan,  0.]),\n",
       " '[[ 1.  0.  1.]\\n [ 0. -1. -1.]\\n [ 0.  1. -1.]]': array([nan,  0., nan,  0., nan, nan,  0., nan, nan]),\n",
       " '[[ 1.  0.  1.]\\n [ 1. -1. -1.]\\n [ 0.  1. -1.]]': array([nan,  0., nan, nan, nan, nan,  0., nan, nan]),\n",
       " '[[ 1. -1.  1.]\\n [ 1. -1. -1.]\\n [ 0.  1. -1.]]': array([nan, nan, nan, nan, nan, nan,  0., nan, nan]),\n",
       " '[[ 0.  0.  1.]\\n [ 0.  0. -1.]\\n [ 1.  0. -1.]]': array([ 0.,  0., nan,  0.,  0., nan, nan,  0., nan]),\n",
       " '[[ 1.  0.  1.]\\n [ 0.  0. -1.]\\n [ 1.  0. -1.]]': array([nan,  0., nan,  0.,  0., nan, nan,  0., nan]),\n",
       " '[[ 1.  0.  1.]\\n [ 0.  0. -1.]\\n [ 1. -1. -1.]]': array([nan,  0., nan,  0.,  0., nan, nan, nan, nan]),\n",
       " '[[ 1.  0.  1.]\\n [ 0.  1. -1.]\\n [ 1. -1. -1.]]': array([nan,  0., nan,  0., nan, nan, nan, nan, nan]),\n",
       " '[[ 0.  0.  0.]\\n [ 0. -1.  0.]\\n [ 0.  0.  1.]]': array([ 0.,  0.,  0.,  0., nan,  0.,  0.,  0., nan]),\n",
       " '[[ 0.  0.  0.]\\n [ 1. -1.  0.]\\n [ 0.  0.  1.]]': array([ 0.,  0.,  0., nan, nan,  0.,  0.,  0., nan]),\n",
       " '[[ 0.  0.  0.]\\n [ 1. -1.  0.]\\n [ 0. -1.  1.]]': array([ 0.,  0.,  0., nan, nan,  0.,  0., nan, nan]),\n",
       " '[[ 0.  1.  0.]\\n [ 1. -1.  0.]\\n [ 0. -1.  1.]]': array([ 0., nan,  0., nan, nan,  0.,  0., nan, nan]),\n",
       " '[[ 0.  1. -1.]\\n [ 1. -1.  0.]\\n [ 0. -1.  1.]]': array([ 0., nan, nan, nan, nan,  0.,  0., nan, nan]),\n",
       " '[[ 0.  0.  0.]\\n [ 1.  0.  1.]\\n [-1.  0. -1.]]': array([ 0.,  0.,  0., nan,  0., nan, nan,  0., nan]),\n",
       " '[[ 0.  0.  0.]\\n [ 1.  0.  1.]\\n [-1.  1. -1.]]': array([ 0.,  0.,  0., nan,  0., nan, nan, nan, nan]),\n",
       " '[[ 0. -1.  0.]\\n [ 1.  0.  1.]\\n [-1.  1. -1.]]': array([ 0., nan,  0., nan,  0., nan, nan, nan, nan]),\n",
       " '[[ 0. -1.  0.]\\n [ 1.  1.  1.]\\n [-1.  1. -1.]]': array([ 0., nan,  0., nan, nan, nan, nan, nan, nan]),\n",
       " '[[ 0.  0.  0.]\\n [ 0.  0.  1.]\\n [ 0. -1.  0.]]': array([ 0.,  0.,  0.,  0.,  0., nan,  0., nan,  0.]),\n",
       " '[[ 0.  0.  0.]\\n [ 0.  0.  1.]\\n [ 0. -1.  1.]]': array([ 0.,  0.,  0.,  0.,  0., nan,  0., nan, nan]),\n",
       " '[[ 0.  0. -1.]\\n [ 0.  0.  1.]\\n [ 0. -1.  1.]]': array([ 0.,  0., nan,  0.,  0., nan,  0., nan, nan]),\n",
       " '[[ 0.  1. -1.]\\n [ 0.  0.  1.]\\n [ 0. -1.  1.]]': array([ 0., nan, nan,  0.,  0., nan,  0., nan, nan]),\n",
       " '[[ 0.  1.  0.]\\n [-1.  0.  1.]\\n [ 0.  0.  0.]]': array([ 0., nan,  0., nan,  0., nan,  0.,  0.,  0.]),\n",
       " '[[ 0.  1.  0.]\\n [-1.  0.  1.]\\n [ 0.  0. -1.]]': array([ 0., nan,  0., nan,  0., nan,  0.,  0., nan]),\n",
       " '[[ 0.  1.  0.]\\n [-1.  0.  1.]\\n [ 1.  0. -1.]]': array([ 0., nan,  0., nan,  0., nan, nan,  0., nan]),\n",
       " '[[ 0.  1. -1.]\\n [-1.  0.  1.]\\n [ 1.  0. -1.]]': array([ 0., nan, nan, nan,  0., nan, nan,  0., nan]),\n",
       " '[[ 1.  1. -1.]\\n [-1.  0.  1.]\\n [ 1.  0. -1.]]': array([nan, nan, nan, nan,  0., nan, nan,  0., nan]),\n",
       " '[[ 1.  1. -1.]\\n [-1.  0.  1.]\\n [ 1. -1. -1.]]': array([nan, nan, nan, nan,  0., nan, nan, nan, nan]),\n",
       " '[[ 0.  0.  0.]\\n [ 1. -1.  0.]\\n [ 0.  0.  0.]]': array([ 0.,  0.,  0., nan, nan,  0.,  0.,  0.,  0.]),\n",
       " '[[ 1.  0.  0.]\\n [ 1. -1.  0.]\\n [ 0.  0.  0.]]': array([nan,  0.,  0., nan, nan,  0.,  0.,  0.,  0.]),\n",
       " '[[ 1.  0.  0.]\\n [ 1. -1.  0.]\\n [ 0.  0. -1.]]': array([nan,  0.,  0., nan, nan,  0.,  0.,  0., nan]),\n",
       " '[[ 1.  0.  0.]\\n [ 1. -1.  0.]\\n [ 1.  0. -1.]]': array([nan,  0.,  0., nan, nan,  0., nan,  0., nan]),\n",
       " '[[ 0.  0. -1.]\\n [ 1.  0.  0.]\\n [ 0.  0.  0.]]': array([ 0.,  0., nan, nan,  0.,  0.,  0.,  0.,  0.]),\n",
       " '[[ 0.  0. -1.]\\n [ 1.  1.  0.]\\n [ 0.  0.  0.]]': array([ 0.,  0., nan, nan, nan,  0.,  0.,  0.,  0.]),\n",
       " '[[-1.  0. -1.]\\n [ 1.  1.  0.]\\n [ 0.  0.  0.]]': array([nan,  0., nan, nan, nan,  0.,  0.,  0.,  0.]),\n",
       " '[[-1.  0. -1.]\\n [ 1.  1.  0.]\\n [ 0.  0.  1.]]': array([nan,  0., nan, nan, nan,  0.,  0.,  0., nan]),\n",
       " '[[-1. -1. -1.]\\n [ 1.  1.  0.]\\n [ 0.  0.  1.]]': array([nan, nan, nan, nan, nan,  0.,  0.,  0., nan]),\n",
       " '[[ 0.  0.  1.]\\n [ 0.  0.  1.]\\n [ 0. -1.  0.]]': array([ 0.,  0., nan,  0.,  0., nan,  0., nan,  0.]),\n",
       " '[[ 0.  0.  1.]\\n [ 0. -1.  1.]\\n [ 0. -1.  0.]]': array([ 0.,  0., nan,  0., nan, nan,  0., nan,  0.]),\n",
       " '[[ 1.  1.  1.]\\n [-1. -1.  1.]\\n [ 0. -1.  0.]]': array([nan, nan, nan, nan, nan, nan,  0., nan,  0.]),\n",
       " '[[-1.  1.  1.]\\n [ 0.  1. -1.]\\n [ 0.  0.  0.]]': array([nan, nan, nan,  0., nan, nan,  0.,  0.,  0.]),\n",
       " '[[-1.  1.  1.]\\n [ 0.  1. -1.]\\n [ 0.  0. -1.]]': array([nan, nan, nan,  0., nan, nan,  0.,  0., nan]),\n",
       " '[[-1.  1.  1.]\\n [ 1.  1. -1.]\\n [ 0.  0. -1.]]': array([nan, nan, nan, nan, nan, nan,  0.,  0., nan]),\n",
       " '[[-1.  1.  1.]\\n [ 1.  1. -1.]\\n [-1.  0. -1.]]': array([nan, nan, nan, nan, nan, nan, nan,  0., nan]),\n",
       " '[[-1.  1.  1.]\\n [ 1.  1. -1.]\\n [-1.  1. -1.]]': array([nan, nan, nan, nan, nan, nan, nan, nan, nan]),\n",
       " '[[ 0.  0.  0.]\\n [ 0.  0. -1.]\\n [ 0.  1.  0.]]': array([ 0.,  0.,  0.,  0.,  0., nan,  0., nan,  0.]),\n",
       " '[[ 0.  0.  0.]\\n [ 0.  1. -1.]\\n [ 0.  1.  0.]]': array([ 0.,  0.,  0.,  0., nan, nan,  0., nan,  0.]),\n",
       " '[[ 0. -1.  0.]\\n [ 0.  1. -1.]\\n [ 0.  1.  0.]]': array([ 0., nan,  0.,  0., nan, nan,  0., nan,  0.]),\n",
       " '[[ 0. -1.  1.]\\n [ 0.  1. -1.]\\n [ 0.  1.  0.]]': array([ 0., nan, nan,  0., nan, nan,  0., nan,  0.]),\n",
       " '[[ 0. -1.  1.]\\n [-1.  1. -1.]\\n [ 0.  1.  0.]]': array([ 0., nan, nan, nan, nan, nan,  0., nan,  0.]),\n",
       " '[[ 0. -1.  1.]\\n [-1.  1. -1.]\\n [ 0.  1.  1.]]': array([ 0., nan, nan, nan, nan, nan,  0., nan, nan]),\n",
       " '[[ 0. -1.  1.]\\n [-1.  1. -1.]\\n [-1.  1.  1.]]': array([ 0., nan, nan, nan, nan, nan, nan, nan, nan]),\n",
       " '[[ 1. -1.  1.]\\n [-1.  1. -1.]\\n [-1.  1.  1.]]': array([nan, nan, nan, nan, nan, nan, nan, nan, nan]),\n",
       " '[[ 0.  0.  0.]\\n [ 0.  1.  0.]\\n [ 0. -1.  0.]]': array([ 0.,  0.,  0.,  0., nan,  0.,  0., nan,  0.]),\n",
       " '[[ 1.  0.  0.]\\n [ 0.  1.  0.]\\n [ 0. -1.  0.]]': array([nan,  0.,  0.,  0., nan,  0.,  0., nan,  0.]),\n",
       " '[[ 1.  0.  0.]\\n [ 0.  1. -1.]\\n [ 0. -1.  0.]]': array([nan,  0.,  0.,  0., nan, nan,  0., nan,  0.]),\n",
       " '[[ 1.  0.  0.]\\n [ 0.  1. -1.]\\n [ 0. -1.  1.]]': array([nan,  0.,  0.,  0., nan, nan,  0., nan, nan]),\n",
       " '[[ 0.  1.  0.]\\n [ 0.  0.  0.]\\n [ 0.  0. -1.]]': array([ 0., nan,  0.,  0.,  0.,  0.,  0.,  0., nan]),\n",
       " '[[ 0.  1.  1.]\\n [ 0.  0.  0.]\\n [ 0.  0. -1.]]': array([ 0., nan, nan,  0.,  0.,  0.,  0.,  0., nan]),\n",
       " '[[ 0.  1.  1.]\\n [ 0.  0.  0.]\\n [ 0. -1. -1.]]': array([ 0., nan, nan,  0.,  0.,  0.,  0., nan, nan]),\n",
       " '[[ 0.  1.  1.]\\n [-1.  0.  0.]\\n [ 1. -1. -1.]]': array([ 0., nan, nan, nan,  0.,  0., nan, nan, nan]),\n",
       " '[[ 0.  1.  1.]\\n [-1.  1.  0.]\\n [ 1. -1. -1.]]': array([ 0., nan, nan, nan, nan,  0., nan, nan, nan]),\n",
       " '[[ 0.  0.  0.]\\n [-1.  1.  0.]\\n [ 0.  0.  0.]]': array([ 0.,  0.,  0., nan, nan,  0.,  0.,  0.,  0.]),\n",
       " '[[ 0.  0.  0.]\\n [-1.  1.  0.]\\n [ 0.  0.  1.]]': array([ 0.,  0.,  0., nan, nan,  0.,  0.,  0., nan]),\n",
       " '[[ 0.  1.  1.]\\n [-1.  0.  0.]\\n [ 0.  0.  0.]]': array([ 0., nan, nan, nan,  0.,  0.,  0.,  0.,  0.]),\n",
       " '[[ 0.  1.  1.]\\n [-1.  0.  0.]\\n [ 0. -1.  0.]]': array([ 0., nan, nan, nan,  0.,  0.,  0., nan,  0.]),\n",
       " '[[ 0.  1.  1.]\\n [-1.  0.  0.]\\n [ 0. -1.  1.]]': array([ 0., nan, nan, nan,  0.,  0.,  0., nan, nan]),\n",
       " '[[ 0.  1.  1.]\\n [-1. -1.  0.]\\n [ 0. -1.  1.]]': array([ 0., nan, nan, nan, nan,  0.,  0., nan, nan]),\n",
       " '[[ 0.  1.  1.]\\n [-1. -1.  1.]\\n [ 0. -1.  1.]]': array([ 0., nan, nan, nan, nan, nan,  0., nan, nan]),\n",
       " '[[ 0.  0. -1.]\\n [-1.  0.  0.]\\n [ 1.  1.  0.]]': array([ 0.,  0., nan, nan,  0.,  0., nan, nan,  0.]),\n",
       " '[[ 0.  0. -1.]\\n [-1.  0.  0.]\\n [ 1.  1.  1.]]': array([ 0.,  0., nan, nan,  0.,  0., nan, nan, nan])}"
      ]
     },
     "execution_count": 35,
     "metadata": {},
     "output_type": "execute_result"
    }
   ],
   "source": [
    "Q_table"
   ]
  },
  {
   "cell_type": "code",
   "execution_count": 38,
   "metadata": {},
   "outputs": [],
   "source": [
    "def epsilon_action(q_vals, eps):\n",
    "    if (np.random.default_rng().random() > eps):\n",
    "        #random move\n",
    "        #gets random non-nan index\n",
    "        return np.random.choice([x[0] for x in enumerate(q_vals) if not np.isnan(x[1])])\n",
    "    else:\n",
    "        #first best move\n",
    "        return np.nanargmax(q_vals)"
   ]
  },
  {
   "cell_type": "code",
   "execution_count": 42,
   "metadata": {},
   "outputs": [
    {
     "name": "stderr",
     "output_type": "stream",
     "text": [
      "C:\\Users\\Ferdi\\.conda\\envs\\CS456\\lib\\site-packages\\ipykernel_launcher.py:34: RuntimeWarning: All-NaN slice encountered\n"
     ]
    },
    {
     "name": "stdout",
     "output_type": "stream",
     "text": [
      "Reward opt = 1146\n",
      "Reward learn = -1146\n"
     ]
    }
   ],
   "source": [
    "Turns = np.array(['X','O'])\n",
    "opt_reward = []\n",
    "learn_reward = []\n",
    "for i in range(1000):\n",
    "    moves = []\n",
    "    \n",
    "    env.reset()\n",
    "    grid, _, __ = env.observe()\n",
    "    player_opt = OptimalPlayer(epsilon=0.5, player=Turns[i%2])\n",
    "    for j in range(9):\n",
    "        if env.current_player == player_opt.player:\n",
    "            move = player_opt.act(grid)\n",
    "        else:\n",
    "            # get the q values\n",
    "            q_vals = Q_actions(env.grid)\n",
    "            # choose a move\n",
    "            move = epsilon_action(q_vals, epsilon)\n",
    "            \n",
    "            #add position and move to array\n",
    "            moves.append((env.grid, move))\n",
    "            \n",
    "            # get move in 2d format\n",
    "            move = (move//3, move%3)\n",
    "            \n",
    "        grid, end, winner = env.step(move)\n",
    "        \n",
    "        # update the Q-values\n",
    "        if env.current_player != player_opt.player:\n",
    "            reward = env.reward(player=Turns[(i+1)%2])\n",
    "            num_moves = len(moves)\n",
    "            for i in range(num_moves - 1):\n",
    "                position = moves[i][0]\n",
    "                action = moves[i][1]\n",
    "                Q_next_max = np.nanmax(Q_actions(moves[i + 1][0]))\n",
    "                Q_table[str(position)][action] += step_size * (reward + discount * Q_next_max - Q_table[str(position)][action])\n",
    "        \n",
    "        if end:\n",
    "            # add rewards to arrays\n",
    "            opt_reward.append(env.reward(player=Turns[i%2]))\n",
    "            learn_reward.append(env.reward(player=Turns[(i+1)%2]))\n",
    "            env.reset()\n",
    "            break\n",
    "print('Reward opt = ' +  str(sum(opt_reward)))\n",
    "print('Reward learn = ' +  str(sum(learn_reward)))"
   ]
  },
  {
   "cell_type": "code",
   "execution_count": 43,
   "metadata": {},
   "outputs": [
    {
     "data": {
      "image/png": "[encoded data removed]",
      "text/plain": [
       "<Figure size 432x288 with 1 Axes>"
      ]
     },
     "metadata": {
      "needs_background": "light"
     },
     "output_type": "display_data"
    },
    {
     "data": {
      "image/png": "[encoded data removed]",
      "text/plain": [
       "<Figure size 432x288 with 1 Axes>"
      ]
     },
     "metadata": {
      "needs_background": "light"
     },
     "output_type": "display_data"
    }
   ],
   "source": [
    "plt.plot(np.cumsum(opt_reward))\n",
    "plt.show()\n",
    "plt.plot(np.cumsum(learn_reward))\n",
    "plt.show()"
   ]
  },
  {
   "cell_type": "code",
   "execution_count": null,
   "metadata": {},
   "outputs": [],
   "source": []
  }
 ],
 "metadata": {
  "kernelspec": {
   "display_name": "CS456",
   "language": "python",
   "name": "cs456"
  },
  "language_info": {
   "codemirror_mode": {
    "name": "ipython",
    "version": 3
   },
   "file_extension": ".py",
   "mimetype": "text/x-python",
   "name": "python",
   "nbconvert_exporter": "python",
   "pygments_lexer": "ipython3",
   "version": "3.7.13"
  }
 },
 "nbformat": 4,
 "nbformat_minor": 4
}
